{
 "cells": [
  {
   "cell_type": "markdown",
   "id": "31fbb979",
   "metadata": {},
   "source": [
    "# 4-3-如何用生成器函数实现可迭代对象"
   ]
  },
  {
   "cell_type": "markdown",
   "id": "5e5be6db",
   "metadata": {},
   "source": [
    "## theory"
   ]
  },
  {
   "cell_type": "code",
   "execution_count": 3,
   "id": "997fc20e",
   "metadata": {},
   "outputs": [
    {
     "name": "stdout",
     "output_type": "stream",
     "text": [
      "True\n",
      "True\n",
      "yield 1\n"
     ]
    },
    {
     "data": {
      "text/plain": [
       "1"
      ]
     },
     "execution_count": 3,
     "metadata": {},
     "output_type": "execute_result"
    }
   ],
   "source": [
    "from collections.abc import Iterable, Iterator\n",
    "\n",
    "\n",
    "def x():\n",
    "    print(\"yield 1\")\n",
    "    yield 1\n",
    "    print(\"yield 2\")\n",
    "    yield 2\n",
    "    print(\"yield 3\")\n",
    "    yield 3\n",
    "\n",
    "\n",
    "g = x()\n",
    "print(isinstance(g, Iterator))\n",
    "print(isinstance(g, Iterable)) # 是Itererator必是Iterable,其实可以不用写这行\n",
    "\n",
    "next(g)\n"
   ]
  },
  {
   "cell_type": "code",
   "execution_count": 4,
   "id": "fb990b73",
   "metadata": {},
   "outputs": [
    {
     "name": "stdout",
     "output_type": "stream",
     "text": [
      "1\n",
      "2\n",
      "3\n"
     ]
    }
   ],
   "source": [
    "class XXX_iterable(Iterable):\n",
    "    def __iter__(self):\n",
    "        yield 1\n",
    "        yield 2\n",
    "        yield 3\n",
    "\n",
    "\n",
    "g = iter(XXX_iterable()) # 返回生成器对象"
   ]
  },
  {
   "cell_type": "markdown",
   "id": "3dd56c6a",
   "metadata": {},
   "source": [
    "## 实例：寻找范围内的所有素数"
   ]
  },
  {
   "cell_type": "code",
   "execution_count": 5,
   "id": "fbc127f6",
   "metadata": {},
   "outputs": [
    {
     "name": "stdout",
     "output_type": "stream",
     "text": [
      "2\n",
      "3\n",
      "5\n",
      "7\n",
      "11\n",
      "13\n",
      "17\n",
      "19\n",
      "23\n",
      "29\n"
     ]
    }
   ],
   "source": [
    "class primeNumbers(Iterable):\n",
    "    def __init__(self, a, b):\n",
    "        self.a = a\n",
    "        self.b = b\n",
    "\n",
    "    def __iter__(self):\n",
    "        for i in range(self.a, self.b + 1):\n",
    "            if self.is_prime(i):\n",
    "                yield i\n",
    "\n",
    "    def is_prime(self, num):\n",
    "        return False if num < 2 else all(map(lambda x: num % x, range(2, num)))\n",
    "        # 此处使用all并不会影响效率，因为map返回的是迭代器对象,all一遇到false就停止\n",
    "        # all 一个空迭代器(如list后返回[])也返回True,因为是遇到表示错的(如0,None,False)的才返回False\n",
    "\n",
    "\n",
    "pn = primeNumbers(1, 30)\n",
    "for x in pn:\n",
    "    print(x)\n"
   ]
  }
 ],
 "metadata": {
  "kernelspec": {
   "display_name": "Python 3 (ipykernel)",
   "language": "python",
   "name": "python3"
  },
  "language_info": {
   "codemirror_mode": {
    "name": "ipython",
    "version": 3
   },
   "file_extension": ".py",
   "mimetype": "text/x-python",
   "name": "python",
   "nbconvert_exporter": "python",
   "pygments_lexer": "ipython3",
   "version": "3.8.10"
  },
  "toc": {
   "base_numbering": 1,
   "nav_menu": {},
   "number_sections": true,
   "sideBar": true,
   "skip_h1_title": false,
   "title_cell": "Table of Contents",
   "title_sidebar": "Contents",
   "toc_cell": false,
   "toc_position": {},
   "toc_section_display": true,
   "toc_window_display": false
  }
 },
 "nbformat": 4,
 "nbformat_minor": 5
}
