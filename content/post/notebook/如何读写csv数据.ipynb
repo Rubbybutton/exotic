{
 "cells": [
  {
   "cell_type": "markdown",
   "id": "36968231",
   "metadata": {},
   "source": [
    "# 如何读写csv数据"
   ]
  },
  {
   "cell_type": "markdown",
   "id": "d27ec140",
   "metadata": {},
   "source": [
    "默认以`,`为分隔符，若数据中包含逗号，要用引号引起来。"
   ]
  },
  {
   "cell_type": "code",
   "execution_count": 1,
   "id": "e7dc6619",
   "metadata": {},
   "outputs": [],
   "source": [
    "import csv"
   ]
  },
  {
   "cell_type": "markdown",
   "id": "ceca1b85",
   "metadata": {},
   "source": [
    "## 读"
   ]
  },
  {
   "cell_type": "code",
   "execution_count": null,
   "id": "76846fbf",
   "metadata": {},
   "outputs": [],
   "source": [
    "with open(\"book.csv\") as f:\n",
    "    # csv.reader(f,delimiter=\";\")\n",
    "    reader = csv.reader(f,delimiter=\";\")"
   ]
  },
  {
   "cell_type": "markdown",
   "id": "b77478b8",
   "metadata": {},
   "source": [
    "## 写"
   ]
  },
  {
   "cell_type": "code",
   "execution_count": null,
   "id": "1e0f53d4",
   "metadata": {},
   "outputs": [],
   "source": [
    "with open(\"demo.csv\",\"w\") as f:\n",
    "    writer = csv.writer(f,delimiter=\" \")\n",
    "    writer.writerow([1,2,3]) # write one line"
   ]
  }
 ],
 "metadata": {
  "kernelspec": {
   "display_name": "Python 3 (ipykernel)",
   "language": "python",
   "name": "python3"
  },
  "language_info": {
   "codemirror_mode": {
    "name": "ipython",
    "version": 3
   },
   "file_extension": ".py",
   "mimetype": "text/x-python",
   "name": "python",
   "nbconvert_exporter": "python",
   "pygments_lexer": "ipython3",
   "version": "3.8.10"
  },
  "toc": {
   "base_numbering": 1,
   "nav_menu": {},
   "number_sections": true,
   "sideBar": true,
   "skip_h1_title": false,
   "title_cell": "Table of Contents",
   "title_sidebar": "Contents",
   "toc_cell": false,
   "toc_position": {},
   "toc_section_display": true,
   "toc_window_display": false
  }
 },
 "nbformat": 4,
 "nbformat_minor": 5
}
