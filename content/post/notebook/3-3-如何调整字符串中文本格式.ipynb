{
 "cells": [
  {
   "cell_type": "markdown",
   "id": "27e3816f",
   "metadata": {},
   "source": [
    "# 3-3-如何调整字符串中文本格式"
   ]
  },
  {
   "cell_type": "markdown",
   "id": "3af93f99",
   "metadata": {},
   "source": [
    "读取dpkg的log文件，并且一次读取全部。之所以全部读取，是为了模拟复杂的情况。"
   ]
  },
  {
   "cell_type": "code",
   "execution_count": 1,
   "id": "47a56fc7",
   "metadata": {},
   "outputs": [],
   "source": [
    "import re"
   ]
  },
  {
   "cell_type": "code",
   "execution_count": 2,
   "id": "b1dea676",
   "metadata": {
    "code_folding": []
   },
   "outputs": [],
   "source": [
    "# 见3-3-EXTRA, 返回最后几行的函数\n",
    "def tail(f, N, interval=100, curPos=-1):\n",
    "    if curPos == -1:\n",
    "        curPos = f.seek(0, 2)\n",
    "    if curPos < interval:\n",
    "        interval = curPos\n",
    "\n",
    "    if curPos == 0:\n",
    "        f.seek(0, 0)\n",
    "        lines = f.readlines()\n",
    "    elif curPos > 0:\n",
    "        f.seek(curPos - interval, 0)\n",
    "        lines = f.readlines()\n",
    "    else:\n",
    "        return \"curPos must >= 0\"\n",
    "\n",
    "    if len(lines) > N:\n",
    "        return lines[-N:]\n",
    "    else:\n",
    "        if curPos == 0:\n",
    "            raise Warning(\"The file doesn't have N lines\")\n",
    "        if curPos <= interval:\n",
    "            return tail(f, N, interval, 0)\n",
    "        else:\n",
    "            return tail(f, N, interval, curPos - interval)"
   ]
  },
  {
   "cell_type": "code",
   "execution_count": 3,
   "id": "8f1b9199",
   "metadata": {},
   "outputs": [
    {
     "data": {
      "text/plain": [
       "'2021-10-20 19:34:10 status unpacked linux-crashdump:amd64 5.4.0.89.93\\n2021-10-20 19:34:11 startup packages configure\\n2021-10-20 19:34:11 configure linux-crashdump:amd64 5.4.0.89.93 <none>\\n2021-10-20 19:34:11 status unpacked linux-crashdump:amd64 5.4.0.89.93\\n2021-10-20 19:34:11 status half-configured linux-crashdump:amd64 5.4.0.89.93\\n2021-10-20 19:34:11 status installed linux-crashdump:amd64 5.4.0.89.93\\n2021-10-20 19:34:11 configure alsa-ucm-conf:all 1.2.2-1ubuntu0.11 <none>\\n2021-10-20 19:34:11 status unpacked alsa-ucm-conf:all 1.2.2-1ubuntu0.11\\n2021-10-20 19:34:11 status half-configured alsa-ucm-conf:all 1.2.2-1ubuntu0.11\\n2021-10-20 19:34:11 status installed alsa-ucm-conf:all 1.2.2-1ubuntu0.11\\n'"
      ]
     },
     "execution_count": 3,
     "metadata": {},
     "output_type": "execute_result"
    }
   ],
   "source": [
    "f = open(\"/var/log/dpkg.log\")\n",
    "testStr = ''.join(tail(f,10))\n",
    "f.close()\n",
    "testStr"
   ]
  },
  {
   "cell_type": "code",
   "execution_count": 6,
   "id": "c05f75bb",
   "metadata": {},
   "outputs": [
    {
     "data": {
      "text/plain": [
       "'10/20/2021 19:34:10 status unpacked linux-crashdump:amd64 5.4.0.89.93\\n10/20/2021 19:34:11 startup packages configure\\n10/20/2021 19:34:11 configure linux-crashdump:amd64 5.4.0.89.93 <none>\\n10/20/2021 19:34:11 status unpacked linux-crashdump:amd64 5.4.0.89.93\\n10/20/2021 19:34:11 status half-configured linux-crashdump:amd64 5.4.0.89.93\\n10/20/2021 19:34:11 status installed linux-crashdump:amd64 5.4.0.89.93\\n10/20/2021 19:34:11 configure alsa-ucm-conf:all 1.2.2-1ubuntu0.11 <none>\\n10/20/2021 19:34:11 status unpacked alsa-ucm-conf:all 1.2.2-1ubuntu0.11\\n10/20/2021 19:34:11 status half-configured alsa-ucm-conf:all 1.2.2-1ubuntu0.11\\n10/20/2021 19:34:11 status installed alsa-ucm-conf:all 1.2.2-1ubuntu0.11\\n'"
      ]
     },
     "execution_count": 6,
     "metadata": {},
     "output_type": "execute_result"
    }
   ],
   "source": [
    "re.sub(r\"(\\d{4})-(\\d{2})-(\\d{2})\",r\"\\2/\\3/\\1\",testStr) # 2021-10-20 -> 10/20/2021"
   ]
  },
  {
   "cell_type": "code",
   "execution_count": 8,
   "id": "5a7f7969",
   "metadata": {},
   "outputs": [
    {
     "data": {
      "text/plain": [
       "'10/20/2021 19:34:10 status unpacked linux-crashdump:amd64 5.4.0.89.93\\n10/20/2021 19:34:11 startup packages configure\\n10/20/2021 19:34:11 configure linux-crashdump:amd64 5.4.0.89.93 <none>\\n10/20/2021 19:34:11 status unpacked linux-crashdump:amd64 5.4.0.89.93\\n10/20/2021 19:34:11 status half-configured linux-crashdump:amd64 5.4.0.89.93\\n10/20/2021 19:34:11 status installed linux-crashdump:amd64 5.4.0.89.93\\n10/20/2021 19:34:11 configure alsa-ucm-conf:all 1.2.2-1ubuntu0.11 <none>\\n10/20/2021 19:34:11 status unpacked alsa-ucm-conf:all 1.2.2-1ubuntu0.11\\n10/20/2021 19:34:11 status half-configured alsa-ucm-conf:all 1.2.2-1ubuntu0.11\\n10/20/2021 19:34:11 status installed alsa-ucm-conf:all 1.2.2-1ubuntu0.11\\n'"
      ]
     },
     "execution_count": 8,
     "metadata": {},
     "output_type": "execute_result"
    }
   ],
   "source": [
    "# 正则表达式给组命名写法\n",
    "re.sub(r\"(?P<y>\\d{4})-(?P<m>\\d{2})-(?P<d>\\d{2})\",r\"\\g<m>/\\g<d>/\\g<y>\",testStr) # 2021-10-20 -> 10/20/2021"
   ]
  }
 ],
 "metadata": {
  "kernelspec": {
   "display_name": "Python 3 (ipykernel)",
   "language": "python",
   "name": "python3"
  },
  "language_info": {
   "codemirror_mode": {
    "name": "ipython",
    "version": 3
   },
   "file_extension": ".py",
   "mimetype": "text/x-python",
   "name": "python",
   "nbconvert_exporter": "python",
   "pygments_lexer": "ipython3",
   "version": "3.8.10"
  },
  "toc": {
   "base_numbering": 1,
   "nav_menu": {},
   "number_sections": true,
   "sideBar": true,
   "skip_h1_title": false,
   "title_cell": "Table of Contents",
   "title_sidebar": "Contents",
   "toc_cell": false,
   "toc_position": {},
   "toc_section_display": true,
   "toc_window_display": false
  }
 },
 "nbformat": 4,
 "nbformat_minor": 5
}
