{
 "cells": [
  {
   "cell_type": "markdown",
   "id": "e12e8994",
   "metadata": {},
   "source": [
    "# 4-1-实现迭代器对象和可迭代对象-1.ipynb"
   ]
  },
  {
   "cell_type": "markdown",
   "id": "ae65de2c",
   "metadata": {},
   "source": [
    "通过源码我们知道Iterator是继承Iterable的\n",
    "比如获取天气信息，这样可以每次迭代执行一次，用户体验好"
   ]
  },
  {
   "cell_type": "code",
   "execution_count": 1,
   "id": "2c50bcc6",
   "metadata": {},
   "outputs": [
    {
     "name": "stdout",
     "output_type": "stream",
     "text": [
      "('北京', '高温 13℃', '低温 4℃')\n",
      "('上海', '高温 22℃', '低温 14℃')\n",
      "('北京', '高温 13℃', '低温 4℃')\n",
      "('上海', '高温 22℃', '低温 14℃')\n",
      "('北京', '高温 13℃', '低温 4℃')\n",
      "('上海', '高温 22℃', '低温 14℃')\n",
      "('北京', '高温 13℃', '低温 4℃')\n",
      "('上海', '高温 22℃', '低温 14℃')\n",
      "('北京', '高温 13℃', '低温 4℃')\n",
      "('上海', '高温 22℃', '低温 14℃')\n",
      "('北京', '高温 13℃', '低温 4℃')\n",
      "('上海', '高温 22℃', '低温 14℃')\n",
      "('北京', '高温 13℃', '低温 4℃')\n",
      "('上海', '高温 22℃', '低温 14℃')\n",
      "('北京', '高温 13℃', '低温 4℃')\n",
      "('上海', '高温 22℃', '低温 14℃')\n",
      "('北京', '高温 13℃', '低温 4℃')\n",
      "('上海', '高温 22℃', '低温 14℃')\n",
      "('北京', '高温 13℃', '低温 4℃')\n",
      "('上海', '高温 22℃', '低温 14℃')\n"
     ]
    }
   ],
   "source": [
    "from collections.abc import Iterable, Iterator\n",
    "import requests\n",
    "\n",
    "\n",
    "class WeatherIterable(Iterable):\n",
    "    def __init__(self, cities):\n",
    "        self.cities = cities\n",
    "\n",
    "    def __iter__(self):\n",
    "        return WeatherIterator(self.cities)\n",
    "\n",
    "\n",
    "class WeatherIterator(Iterator):\n",
    "    def __init__(self, cities):\n",
    "        self.cities = cities\n",
    "        self.index = 0\n",
    "\n",
    "    def __next__(self):\n",
    "        if self.index == len(self.cities):\n",
    "            raise StopIteration\n",
    "        city = self.cities[self.index]\n",
    "        self.index += 1\n",
    "        return self.getWeather(city)\n",
    "\n",
    "    def getWeather(self, city):\n",
    "        url = \"http://wthrcdn.etouch.cn/weather_mini?city=\" + city\n",
    "        WeatherJson = requests.get(url).json()\n",
    "        day0 = WeatherJson[\"data\"][\"forecast\"][0]\n",
    "        return city, day0[\"high\"], day0[\"low\"]\n",
    "\n",
    "\n",
    "a = WeatherIterable([\"北京\", \"上海\"] * 10) # 建议使用可迭代对象，因为可以使用多次\n",
    "for i in a:\n",
    "    print(i)\n"
   ]
  }
 ],
 "metadata": {
  "kernelspec": {
   "display_name": "Python 3 (ipykernel)",
   "language": "python",
   "name": "python3"
  },
  "language_info": {
   "codemirror_mode": {
    "name": "ipython",
    "version": 3
   },
   "file_extension": ".py",
   "mimetype": "text/x-python",
   "name": "python",
   "nbconvert_exporter": "python",
   "pygments_lexer": "ipython3",
   "version": "3.8.10"
  },
  "toc": {
   "base_numbering": 1,
   "nav_menu": {},
   "number_sections": true,
   "sideBar": true,
   "skip_h1_title": false,
   "title_cell": "Table of Contents",
   "title_sidebar": "Contents",
   "toc_cell": false,
   "toc_position": {},
   "toc_section_display": true,
   "toc_window_display": false
  }
 },
 "nbformat": 4,
 "nbformat_minor": 5
}
