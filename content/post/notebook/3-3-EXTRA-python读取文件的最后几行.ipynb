{
 "cells": [
  {
   "cell_type": "markdown",
   "id": "974db9d3",
   "metadata": {},
   "source": [
    "# 3-3-EXTRA-python读取文件的最后几行\n",
    "我写的"
   ]
  },
  {
   "cell_type": "code",
   "execution_count": 1,
   "id": "68106def",
   "metadata": {},
   "outputs": [],
   "source": [
    "import os"
   ]
  },
  {
   "cell_type": "markdown",
   "id": "4bef4cde",
   "metadata": {},
   "source": [
    "## 引"
   ]
  },
  {
   "cell_type": "code",
   "execution_count": 2,
   "id": "b91460e7",
   "metadata": {
    "scrolled": true
   },
   "outputs": [
    {
     "name": "stdout",
     "output_type": "stream",
     "text": [
      "fs-copymods:all 0.45ubuntu2\n",
      "2021-11-04 16:41:26 status installed initramfs-tools:all 0.136ubuntu6.6\n",
      "\n",
      "fs-copymods:all 0.45ubuntu2\n",
      "2021-11-04 16:41:26 status installed initramfs-tools:all 0.136ubuntu6.6\n",
      "\n"
     ]
    }
   ],
   "source": [
    "with open(\"/var/log/dpkg.log\",\"rb\") as f: # 以二进制格式读取 f.seek(x,2)中x可以设置为非0值\n",
    "    f.seek(-100,2)\n",
    "    s = f.read().decode(\"utf-8\")\n",
    "    print(s)\n",
    "\n",
    "with open(\"/var/log/dpkg.log\") as f: # 以文本格式读取 除f.seek(x,0)中x可以设置为任意正值外，x都只能为0\n",
    "    f.seek(f.seek(0,2)-100,0) # 此处f.seek(0,2)返回最后位置，与先f.seek(0,2)再f.tell()作用相同\n",
    "    s = f.read()\n",
    "    print(s)"
   ]
  },
  {
   "cell_type": "markdown",
   "id": "dd56b845",
   "metadata": {},
   "source": [
    "### 引-中文测试"
   ]
  },
  {
   "cell_type": "code",
   "execution_count": 3,
   "id": "82db9a71",
   "metadata": {},
   "outputs": [],
   "source": [
    "# with open(\"中文测试.txt\",\"rb\") as f: # 二进制中文测试\n",
    "# #     f.seek(-11,2)  # 此处11刚好能取到完整中文字符，故可以，然而比如取10时候就报错了\n",
    "#     s = f.read().decode(\"utf-8\")\n",
    "#     print(s)\n",
    "\n",
    "# with open(\"中文测试.txt\") as f: # 纯文本中文测试\n",
    "#     f.seek(f.seek(0,2)-11,0) # 和二进制测试同样。\n",
    "#     s = f.read()\n",
    "#     print(s)"
   ]
  },
  {
   "cell_type": "markdown",
   "id": "98bd7dfd",
   "metadata": {},
   "source": [
    "## 编写代码"
   ]
  },
  {
   "cell_type": "code",
   "execution_count": 4,
   "id": "d25200a2",
   "metadata": {},
   "outputs": [],
   "source": [
    "def tail(f, N, interval=100, curPos=-1):\n",
    "    if curPos == -1:\n",
    "        curPos = f.seek(0, 2)\n",
    "    if curPos < interval:\n",
    "        interval = curPos\n",
    "\n",
    "    if curPos == 0:\n",
    "        f.seek(0, 0)\n",
    "        lines = f.readlines()\n",
    "    elif curPos > 0:\n",
    "        f.seek(curPos - interval, 0)\n",
    "        lines = f.readlines()\n",
    "    else:\n",
    "        return \"curPos must >= 0\"\n",
    "\n",
    "    if len(lines) > N:\n",
    "        return lines[-N:]\n",
    "    else:\n",
    "        if curPos == 0:\n",
    "            raise Warning(\"The file doesn't have N lines\")\n",
    "        if curPos <= interval:\n",
    "            return tail(f, N, interval, 0)\n",
    "        else:\n",
    "            return tail(f, N, interval, curPos - interval)"
   ]
  },
  {
   "cell_type": "code",
   "execution_count": 5,
   "id": "9ce85b69",
   "metadata": {},
   "outputs": [
    {
     "data": {
      "text/plain": [
       "['2021-11-04 16:41:04 status installed systemd:amd64 245.4-4ubuntu3.13\\n',\n",
       " '2021-11-04 16:41:04 trigproc man-db:amd64 2.9.1-1 <none>\\n',\n",
       " '2021-11-04 16:41:04 status half-configured man-db:amd64 2.9.1-1\\n',\n",
       " '2021-11-04 16:41:06 status installed man-db:amd64 2.9.1-1\\n',\n",
       " '2021-11-04 16:41:06 trigproc initramfs-tools:all 0.136ubuntu6.6 <none>\\n',\n",
       " '2021-11-04 16:41:06 status half-configured initramfs-tools:all 0.136ubuntu6.6\\n',\n",
       " '2021-11-04 16:41:06 status installed overlayroot:all 0.45ubuntu2\\n',\n",
       " '2021-11-04 16:41:06 status installed cloud-initramfs-dyn-netconf:all 0.45ubuntu2\\n',\n",
       " '2021-11-04 16:41:06 status installed cloud-initramfs-copymods:all 0.45ubuntu2\\n',\n",
       " '2021-11-04 16:41:26 status installed initramfs-tools:all 0.136ubuntu6.6\\n']"
      ]
     },
     "execution_count": 5,
     "metadata": {},
     "output_type": "execute_result"
    }
   ],
   "source": [
    "tail(open(\"/var/log/dpkg.log\"),10)"
   ]
  },
  {
   "cell_type": "code",
   "execution_count": 6,
   "id": "29933b6a",
   "metadata": {},
   "outputs": [
    {
     "ename": "Warning",
     "evalue": "The file doesn't have N lines",
     "output_type": "error",
     "traceback": [
      "\u001b[0;31m---------------------------------------------------------------------------\u001b[0m",
      "\u001b[0;31mWarning\u001b[0m                                   Traceback (most recent call last)",
      "\u001b[0;32m/tmp/ipykernel_1978125/3473377128.py\u001b[0m in \u001b[0;36m<module>\u001b[0;34m\u001b[0m\n\u001b[0;32m----> 1\u001b[0;31m \u001b[0mtail\u001b[0m\u001b[0;34m(\u001b[0m\u001b[0mopen\u001b[0m\u001b[0;34m(\u001b[0m\u001b[0;34m\"EnglishTest.txt\"\u001b[0m\u001b[0;34m)\u001b[0m\u001b[0;34m,\u001b[0m\u001b[0;36m10\u001b[0m\u001b[0;34m)\u001b[0m\u001b[0;34m\u001b[0m\u001b[0;34m\u001b[0m\u001b[0m\n\u001b[0m",
      "\u001b[0;32m/tmp/ipykernel_1978125/719537575.py\u001b[0m in \u001b[0;36mtail\u001b[0;34m(f, N, interval, curPos)\u001b[0m\n\u001b[1;32m     20\u001b[0m             \u001b[0;32mraise\u001b[0m \u001b[0mWarning\u001b[0m\u001b[0;34m(\u001b[0m\u001b[0;34m\"The file doesn't have N lines\"\u001b[0m\u001b[0;34m)\u001b[0m\u001b[0;34m\u001b[0m\u001b[0;34m\u001b[0m\u001b[0m\n\u001b[1;32m     21\u001b[0m         \u001b[0;32mif\u001b[0m \u001b[0mcurPos\u001b[0m \u001b[0;34m<=\u001b[0m \u001b[0minterval\u001b[0m\u001b[0;34m:\u001b[0m\u001b[0;34m\u001b[0m\u001b[0;34m\u001b[0m\u001b[0m\n\u001b[0;32m---> 22\u001b[0;31m             \u001b[0;32mreturn\u001b[0m \u001b[0mtail\u001b[0m\u001b[0;34m(\u001b[0m\u001b[0mf\u001b[0m\u001b[0;34m,\u001b[0m \u001b[0mN\u001b[0m\u001b[0;34m,\u001b[0m \u001b[0minterval\u001b[0m\u001b[0;34m,\u001b[0m \u001b[0;36m0\u001b[0m\u001b[0;34m)\u001b[0m\u001b[0;34m\u001b[0m\u001b[0;34m\u001b[0m\u001b[0m\n\u001b[0m\u001b[1;32m     23\u001b[0m         \u001b[0;32melse\u001b[0m\u001b[0;34m:\u001b[0m\u001b[0;34m\u001b[0m\u001b[0;34m\u001b[0m\u001b[0m\n\u001b[1;32m     24\u001b[0m             \u001b[0;32mreturn\u001b[0m \u001b[0mtail\u001b[0m\u001b[0;34m(\u001b[0m\u001b[0mf\u001b[0m\u001b[0;34m,\u001b[0m \u001b[0mN\u001b[0m\u001b[0;34m,\u001b[0m \u001b[0minterval\u001b[0m\u001b[0;34m,\u001b[0m \u001b[0mcurPos\u001b[0m \u001b[0;34m-\u001b[0m \u001b[0minterval\u001b[0m\u001b[0;34m)\u001b[0m\u001b[0;34m\u001b[0m\u001b[0;34m\u001b[0m\u001b[0m\n",
      "\u001b[0;32m/tmp/ipykernel_1978125/719537575.py\u001b[0m in \u001b[0;36mtail\u001b[0;34m(f, N, interval, curPos)\u001b[0m\n\u001b[1;32m     18\u001b[0m     \u001b[0;32melse\u001b[0m\u001b[0;34m:\u001b[0m\u001b[0;34m\u001b[0m\u001b[0;34m\u001b[0m\u001b[0m\n\u001b[1;32m     19\u001b[0m         \u001b[0;32mif\u001b[0m \u001b[0mcurPos\u001b[0m \u001b[0;34m==\u001b[0m \u001b[0;36m0\u001b[0m\u001b[0;34m:\u001b[0m\u001b[0;34m\u001b[0m\u001b[0;34m\u001b[0m\u001b[0m\n\u001b[0;32m---> 20\u001b[0;31m             \u001b[0;32mraise\u001b[0m \u001b[0mWarning\u001b[0m\u001b[0;34m(\u001b[0m\u001b[0;34m\"The file doesn't have N lines\"\u001b[0m\u001b[0;34m)\u001b[0m\u001b[0;34m\u001b[0m\u001b[0;34m\u001b[0m\u001b[0m\n\u001b[0m\u001b[1;32m     21\u001b[0m         \u001b[0;32mif\u001b[0m \u001b[0mcurPos\u001b[0m \u001b[0;34m<=\u001b[0m \u001b[0minterval\u001b[0m\u001b[0;34m:\u001b[0m\u001b[0;34m\u001b[0m\u001b[0;34m\u001b[0m\u001b[0m\n\u001b[1;32m     22\u001b[0m             \u001b[0;32mreturn\u001b[0m \u001b[0mtail\u001b[0m\u001b[0;34m(\u001b[0m\u001b[0mf\u001b[0m\u001b[0;34m,\u001b[0m \u001b[0mN\u001b[0m\u001b[0;34m,\u001b[0m \u001b[0minterval\u001b[0m\u001b[0;34m,\u001b[0m \u001b[0;36m0\u001b[0m\u001b[0;34m)\u001b[0m\u001b[0;34m\u001b[0m\u001b[0;34m\u001b[0m\u001b[0m\n",
      "\u001b[0;31mWarning\u001b[0m: The file doesn't have N lines"
     ]
    }
   ],
   "source": [
    "tail(open(\"EnglishTest.txt\"),10)"
   ]
  }
 ],
 "metadata": {
  "kernelspec": {
   "display_name": "Python 3 (ipykernel)",
   "language": "python",
   "name": "python3"
  },
  "language_info": {
   "codemirror_mode": {
    "name": "ipython",
    "version": 3
   },
   "file_extension": ".py",
   "mimetype": "text/x-python",
   "name": "python",
   "nbconvert_exporter": "python",
   "pygments_lexer": "ipython3",
   "version": "3.8.10"
  },
  "toc": {
   "base_numbering": 1,
   "nav_menu": {},
   "number_sections": true,
   "sideBar": true,
   "skip_h1_title": false,
   "title_cell": "Table of Contents",
   "title_sidebar": "Contents",
   "toc_cell": false,
   "toc_position": {},
   "toc_section_display": true,
   "toc_window_display": false
  }
 },
 "nbformat": 4,
 "nbformat_minor": 5
}
