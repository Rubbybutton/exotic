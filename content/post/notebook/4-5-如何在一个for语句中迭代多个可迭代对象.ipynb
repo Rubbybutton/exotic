{
 "cells": [
  {
   "cell_type": "markdown",
   "id": "73ced9ae",
   "metadata": {},
   "source": [
    "# 4-5-如何在一个for语句中迭代多个可迭代对象"
   ]
  },
  {
   "cell_type": "code",
   "execution_count": 1,
   "id": "5e682379",
   "metadata": {},
   "outputs": [],
   "source": [
    "from random import randint\n",
    "\n",
    "chinese = [randint(60, 100) for i in range(20)]\n",
    "english = [randint(60, 100) for i in range(20)]\n",
    "math = [randint(60, 100) for i in range(20)]"
   ]
  },
  {
   "cell_type": "markdown",
   "id": "dd7a6377",
   "metadata": {},
   "source": [
    "## 并行迭代"
   ]
  },
  {
   "cell_type": "code",
   "execution_count": 2,
   "id": "b1ead8bf",
   "metadata": {},
   "outputs": [
    {
     "name": "stdout",
     "output_type": "stream",
     "text": [
      "[(1, 4, 7), (2, 5, 8), (3, 6, 9)]\n",
      "[(1, 4, 7), (2, 5, 8)]\n"
     ]
    }
   ],
   "source": [
    "print(list(zip((1,2,3),(4,5,6),(7,8,9)))) # 等长\n",
    "print(list(zip((1,2,3),(4,5,6),(7,8)))) # 不等长"
   ]
  },
  {
   "cell_type": "markdown",
   "id": "9ced7b2c",
   "metadata": {},
   "source": [
    "### 普通迭代"
   ]
  },
  {
   "cell_type": "code",
   "execution_count": 3,
   "id": "354bbbf8",
   "metadata": {},
   "outputs": [
    {
     "name": "stdout",
     "output_type": "stream",
     "text": [
      "[239, 235, 216, 242, 239, 235, 246, 262, 217, 236, 239, 256, 234, 274, 206, 262, 235, 265, 253, 251]\n"
     ]
    }
   ],
   "source": [
    "t = []\n",
    "for s1, s2, s3 in zip(chinese, english, math): \n",
    "    t.append(s1 + s2 + s3)\n",
    "print(t)"
   ]
  },
  {
   "cell_type": "markdown",
   "id": "e52955af",
   "metadata": {},
   "source": [
    "### 列表构造器"
   ]
  },
  {
   "cell_type": "code",
   "execution_count": 4,
   "id": "8a3b3d0d",
   "metadata": {},
   "outputs": [
    {
     "name": "stdout",
     "output_type": "stream",
     "text": [
      "[239, 235, 216, 242, 239, 235, 246, 262, 217, 236, 239, 256, 234, 274, 206, 262, 235, 265, 253, 251]\n"
     ]
    }
   ],
   "source": [
    "print([sum(s) for s in zip(chinese, english, math)])"
   ]
  },
  {
   "cell_type": "markdown",
   "id": "f8241ca9",
   "metadata": {},
   "source": [
    "### map函数"
   ]
  },
  {
   "cell_type": "markdown",
   "id": "432f27c2",
   "metadata": {},
   "source": [
    "#### map + zip"
   ]
  },
  {
   "cell_type": "code",
   "execution_count": 5,
   "id": "ec77501e",
   "metadata": {},
   "outputs": [
    {
     "name": "stdout",
     "output_type": "stream",
     "text": [
      "[239, 235, 216, 242, 239, 235, 246, 262, 217, 236, 239, 256, 234, 274, 206, 262, 235, 265, 253, 251]\n"
     ]
    }
   ],
   "source": [
    "print(list(map(sum, zip(chinese,english,math)))) # already know the number of the input"
   ]
  },
  {
   "cell_type": "markdown",
   "id": "f1107bb8",
   "metadata": {},
   "source": [
    "#### only map"
   ]
  },
  {
   "cell_type": "code",
   "execution_count": 6,
   "id": "1bc9eb0c",
   "metadata": {},
   "outputs": [
    {
     "name": "stdout",
     "output_type": "stream",
     "text": [
      "[239, 235, 216, 242, 239, 235, 246, 262, 217, 236, 239, 256, 234, 274, 206, 262, 235, 265, 253, 251]\n"
     ]
    }
   ],
   "source": [
    "print(list(map(lambda a, b, c: a + b + c, chinese, english, math))) # surely map can take multiple inputs"
   ]
  },
  {
   "cell_type": "markdown",
   "id": "164b1646",
   "metadata": {},
   "source": [
    "#### use map func. to implement zip func."
   ]
  },
  {
   "cell_type": "code",
   "execution_count": 7,
   "id": "e20ec78a",
   "metadata": {},
   "outputs": [
    {
     "name": "stdout",
     "output_type": "stream",
     "text": [
      "[(84, 90, 65), (78, 84, 73), (83, 60, 73), (74, 77, 91), (87, 92, 60), (66, 88, 81), (98, 75, 73), (100, 98, 64), (76, 79, 62), (82, 90, 64), (76, 67, 96), (86, 99, 71), (83, 82, 69), (93, 81, 100), (68, 71, 67), (100, 67, 95), (63, 81, 91), (77, 89, 99), (96, 66, 91), (79, 94, 78)]\n"
     ]
    }
   ],
   "source": [
    "print(list(map(lambda *args: args,chinese,english,math))) # python 3\n",
    "# map(None, chinese,english,math) # python2"
   ]
  },
  {
   "cell_type": "markdown",
   "id": "321b434d",
   "metadata": {},
   "source": [
    "## 串行迭代"
   ]
  },
  {
   "cell_type": "code",
   "execution_count": 12,
   "id": "fb04b80a",
   "metadata": {},
   "outputs": [
    {
     "name": "stdout",
     "output_type": "stream",
     "text": [
      "[67, 88, 84, 89, 68, 83, 88, 66, 60, 98, 82, 85, 91, 88, 92, 97, 76, 98, 85, 78, 87, 93, 70, 75, 72, 81, 84, 76, 75, 64, 82, 92, 60, 87, 84, 75, 79, 87, 61, 86, 88, 61, 69, 60, 67, 93, 93, 90, 84, 83, 84, 64, 68, 71, 95, 76, 79, 85, 80, 95, 63, 70, 64, 61, 77, 76, 64, 95, 66, 60, 87, 71, 98, 75, 68, 76, 82, 65, 66, 81, 73, 98, 97, 64, 64, 98]\n",
      "\n",
      "[98, 91, 92, 97, 98, 93, 92, 93, 93, 95, 95, 95, 98, 98, 97, 98]\n"
     ]
    }
   ],
   "source": [
    "from random import randint\n",
    "from itertools import chain\n",
    "\n",
    "c1 = [randint(60, 100) for _ in range(20)]\n",
    "c2 = [randint(60, 100) for _ in range(21)]\n",
    "c3 = [randint(60, 100) for _ in range(22)]\n",
    "c4 = [randint(60, 100) for _ in range(23)]\n",
    "\n",
    "print(list(chain(c1, c2, c3, c4)))\n",
    "print()\n",
    "print([x for x in chain(c1, c2, c3, c4) if x > 90]) # those elements greater than 90"
   ]
  },
  {
   "cell_type": "markdown",
   "id": "6f132a00",
   "metadata": {},
   "source": [
    "### 实例：补（3-1-如何拆分含有多种分隔符的字符串）"
   ]
  },
  {
   "cell_type": "code",
   "execution_count": 15,
   "id": "71fce274",
   "metadata": {},
   "outputs": [
    {
     "data": {
      "text/plain": [
       "['ab', 'cd', 'efg', 'hi,jkl', 'mn\\topq', 'rst,uvw\\txyz']"
      ]
     },
     "execution_count": 15,
     "metadata": {},
     "output_type": "execute_result"
    }
   ],
   "source": [
    "from itertools import chain\n",
    "from functools import reduce\n",
    "\n",
    "s = 'ab;cd|efg|hi,jkl|mn\\topq;rst,uvw\\txyz'\n",
    "list(chain(*[ss.split(\"|\") for ss in s.split(\";\")])) # notice * notation"
   ]
  },
  {
   "cell_type": "code",
   "execution_count": 20,
   "id": "bf880282",
   "metadata": {},
   "outputs": [
    {
     "data": {
      "text/plain": [
       "['ab', 'cd', 'efg', 'hi', 'jkl', 'mn', 'opq', 'rst', 'uvw', 'xyz']"
      ]
     },
     "execution_count": 20,
     "metadata": {},
     "output_type": "execute_result"
    }
   ],
   "source": [
    "list(reduce(lambda l, sep: chain(*map(lambda x: x.split(sep), l)), \";|,\\t\", [s])) "
   ]
  }
 ],
 "metadata": {
  "kernelspec": {
   "display_name": "Python 3 (ipykernel)",
   "language": "python",
   "name": "python3"
  },
  "language_info": {
   "codemirror_mode": {
    "name": "ipython",
    "version": 3
   },
   "file_extension": ".py",
   "mimetype": "text/x-python",
   "name": "python",
   "nbconvert_exporter": "python",
   "pygments_lexer": "ipython3",
   "version": "3.8.10"
  },
  "toc": {
   "base_numbering": 1,
   "nav_menu": {},
   "number_sections": true,
   "sideBar": true,
   "skip_h1_title": false,
   "title_cell": "Table of Contents",
   "title_sidebar": "Contents",
   "toc_cell": false,
   "toc_position": {},
   "toc_section_display": true,
   "toc_window_display": false
  }
 },
 "nbformat": 4,
 "nbformat_minor": 5
}
