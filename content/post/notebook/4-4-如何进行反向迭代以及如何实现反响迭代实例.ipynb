{
 "cells": [
  {
   "cell_type": "markdown",
   "id": "4d16ce57",
   "metadata": {},
   "source": [
    "# 4-4-如何进行反向迭代以及如何实现反响迭代实例"
   ]
  },
  {
   "cell_type": "code",
   "execution_count": 1,
   "id": "9197b168",
   "metadata": {},
   "outputs": [
    {
     "name": "stdout",
     "output_type": "stream",
     "text": [
      "[5, 4, 3, 2, 1]\n",
      "[5, 4, 3, 2, 1]\n",
      "<list_reverseiterator object at 0x7fce5c204550>\n"
     ]
    },
    {
     "data": {
      "text/plain": [
       "<list_reverseiterator at 0x7fce5c1f6160>"
      ]
     },
     "execution_count": 1,
     "metadata": {},
     "output_type": "execute_result"
    }
   ],
   "source": [
    "l = [1, 2, 3, 4, 5]\n",
    "l.reverse()  # 改变了远列表\n",
    "print(l)\n",
    "l = [1, 2, 3, 4, 5]  # 创建了等大新列表，浪费\n",
    "print(l[::-1])\n",
    "print(reversed(l))  # 得到反向迭代器\n",
    "# print(iter(l)) # 正向迭代器\n",
    "l.__reversed__()"
   ]
  },
  {
   "cell_type": "code",
   "execution_count": 9,
   "id": "3b062bf9",
   "metadata": {},
   "outputs": [
    {
     "name": "stdout",
     "output_type": "stream",
     "text": [
      "19.99999999999996\n",
      "20.0\n",
      "0.2\n",
      "0.200000000000000011102230246251565404236316680908203125\n"
     ]
    }
   ],
   "source": [
    "from decimal import Decimal # to avoid float add error\n",
    "from functools import reduce\n",
    "\n",
    "print(reduce(lambda a,b:a+b,[0.2]*100))\n",
    "print(reduce(lambda a, b: a + b, [Decimal(\"0.2\")] * 100))\n",
    "\n",
    "print(Decimal(\"0.2\"))  # must input a str\n",
    "print(Decimal(0.2)) \n"
   ]
  },
  {
   "cell_type": "code",
   "execution_count": 10,
   "id": "f2dd68ce",
   "metadata": {},
   "outputs": [
    {
     "name": "stdout",
     "output_type": "stream",
     "text": [
      "3.0\n",
      "3.2\n",
      "3.4\n",
      "3.6\n",
      "3.8\n",
      "4.0\n",
      "--------------------\n",
      "4.0\n",
      "3.8\n",
      "3.6\n",
      "3.4\n",
      "3.2\n",
      "3.0\n"
     ]
    }
   ],
   "source": [
    "from decimal import Decimal\n",
    "\n",
    "\n",
    "class FloatRange:\n",
    "    def __init__(self, a, b, step):\n",
    "        (a, b) = (b, a) if b < a else (a, b)\n",
    "        self.a = Decimal(str(a))\n",
    "        self.b = Decimal(str(b))\n",
    "        self.step = Decimal(str(step))\n",
    "\n",
    "    def __iter__(self):\n",
    "        t = self.a\n",
    "        while t <= self.b:\n",
    "            yield float(t)  # return a float instead of a Decimal\n",
    "            t += self.step\n",
    "\n",
    "    def __reversed__(self):\n",
    "        t = self.b\n",
    "        while t >= self.a:\n",
    "            yield float(t)\n",
    "            t -= self.step\n",
    "\n",
    "\n",
    "x = FloatRange(3.0, 4.0, 0.2)\n",
    "for i in x:\n",
    "    print(i)\n",
    "print(\"-\" * 20)\n",
    "for i in reversed(x):\n",
    "    print(i)"
   ]
  }
 ],
 "metadata": {
  "kernelspec": {
   "display_name": "Python 3 (ipykernel)",
   "language": "python",
   "name": "python3"
  },
  "language_info": {
   "codemirror_mode": {
    "name": "ipython",
    "version": 3
   },
   "file_extension": ".py",
   "mimetype": "text/x-python",
   "name": "python",
   "nbconvert_exporter": "python",
   "pygments_lexer": "ipython3",
   "version": "3.8.10"
  },
  "toc": {
   "base_numbering": 1,
   "nav_menu": {},
   "number_sections": true,
   "sideBar": true,
   "skip_h1_title": false,
   "title_cell": "Table of Contents",
   "title_sidebar": "Contents",
   "toc_cell": false,
   "toc_position": {},
   "toc_section_display": true,
   "toc_window_display": false
  }
 },
 "nbformat": 4,
 "nbformat_minor": 5
}
