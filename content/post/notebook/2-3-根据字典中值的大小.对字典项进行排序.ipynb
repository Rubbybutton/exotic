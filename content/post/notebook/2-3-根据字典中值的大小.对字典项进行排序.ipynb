{
 "cells": [
  {
   "cell_type": "markdown",
   "id": "3a60ff2e",
   "metadata": {},
   "source": [
    "# 2-3-根据字典中值的大小.对字典项进行排序"
   ]
  },
  {
   "cell_type": "markdown",
   "id": "7be59a04",
   "metadata": {},
   "source": [
    "## 使用内置sorted"
   ]
  },
  {
   "cell_type": "code",
   "execution_count": 1,
   "id": "2f0c8d06",
   "metadata": {},
   "outputs": [
    {
     "data": {
      "text/plain": [
       "True"
      ]
     },
     "execution_count": 1,
     "metadata": {},
     "output_type": "execute_result"
    }
   ],
   "source": [
    "(3,2)>(2,2) # compare according to position"
   ]
  },
  {
   "cell_type": "code",
   "execution_count": 10,
   "id": "5e42b492",
   "metadata": {},
   "outputs": [
    {
     "data": {
      "text/plain": [
       "[(98, 'h'),\n",
       " (96, 'c'),\n",
       " (94, 'd'),\n",
       " (72, 'a'),\n",
       " (65, 'e'),\n",
       " (64, 'g'),\n",
       " (63, 'b'),\n",
       " (62, 'f')]"
      ]
     },
     "execution_count": 10,
     "metadata": {},
     "output_type": "execute_result"
    }
   ],
   "source": [
    "from random import randint\n",
    "d = {chr(i):randint(60,100) for i in range(97,97 + 8)}\n",
    "l = [(v,k) for k,v in d.items()]\n",
    "sorted(l,reverse=True)"
   ]
  },
  {
   "cell_type": "markdown",
   "id": "94a7b079",
   "metadata": {},
   "source": [
    "- zip 函数"
   ]
  },
  {
   "cell_type": "code",
   "execution_count": 14,
   "id": "a49d028a",
   "metadata": {},
   "outputs": [
    {
     "data": {
      "text/plain": [
       "[(72, 'a'),\n",
       " (63, 'b'),\n",
       " (96, 'c'),\n",
       " (94, 'd'),\n",
       " (65, 'e'),\n",
       " (62, 'f'),\n",
       " (64, 'g'),\n",
       " (98, 'h')]"
      ]
     },
     "execution_count": 14,
     "metadata": {},
     "output_type": "execute_result"
    }
   ],
   "source": [
    "list(zip(d.values(),d.keys()))"
   ]
  },
  {
   "cell_type": "markdown",
   "id": "012d797e",
   "metadata": {},
   "source": [
    "- sorted 的 key参数"
   ]
  },
  {
   "cell_type": "code",
   "execution_count": 16,
   "id": "5b7c43cf",
   "metadata": {},
   "outputs": [
    {
     "data": {
      "text/plain": [
       "[('h', 98),\n",
       " ('c', 96),\n",
       " ('d', 94),\n",
       " ('a', 72),\n",
       " ('e', 65),\n",
       " ('g', 64),\n",
       " ('b', 63),\n",
       " ('f', 62)]"
      ]
     },
     "execution_count": 16,
     "metadata": {},
     "output_type": "execute_result"
    }
   ],
   "source": [
    "sorted(d.items(),key= lambda x:x[1],reverse=True)"
   ]
  },
  {
   "cell_type": "markdown",
   "id": "f71b54ac",
   "metadata": {},
   "source": [
    "- 用enumerate最终生成对应格式"
   ]
  },
  {
   "cell_type": "code",
   "execution_count": 17,
   "id": "497bd430",
   "metadata": {
    "scrolled": true
   },
   "outputs": [
    {
     "data": {
      "text/plain": [
       "{'a': (1, 72),\n",
       " 'b': (2, 63),\n",
       " 'c': (3, 96),\n",
       " 'd': (4, 94),\n",
       " 'e': (5, 65),\n",
       " 'f': (6, 62),\n",
       " 'g': (7, 64),\n",
       " 'h': (8, 98)}"
      ]
     },
     "execution_count": 17,
     "metadata": {},
     "output_type": "execute_result"
    }
   ],
   "source": [
    "{k: (i,v) for i,(k,v) in enumerate(d.items(),1)} # 先要把d给排好序"
   ]
  }
 ],
 "metadata": {
  "kernelspec": {
   "display_name": "Python 3 (ipykernel)",
   "language": "python",
   "name": "python3"
  },
  "language_info": {
   "codemirror_mode": {
    "name": "ipython",
    "version": 3
   },
   "file_extension": ".py",
   "mimetype": "text/x-python",
   "name": "python",
   "nbconvert_exporter": "python",
   "pygments_lexer": "ipython3",
   "version": "3.8.10"
  }
 },
 "nbformat": 4,
 "nbformat_minor": 5
}
