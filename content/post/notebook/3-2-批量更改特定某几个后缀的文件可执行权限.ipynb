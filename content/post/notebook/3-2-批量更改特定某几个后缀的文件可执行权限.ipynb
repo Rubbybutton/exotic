{
 "cells": [
  {
   "cell_type": "markdown",
   "id": "f86bc6db",
   "metadata": {},
   "source": [
    "# 3-2-批量更改特定某几个后缀的文件可执行权限"
   ]
  },
  {
   "cell_type": "code",
   "execution_count": 1,
   "id": "b31ab937",
   "metadata": {},
   "outputs": [],
   "source": [
    "import stat,os"
   ]
  },
  {
   "cell_type": "code",
   "execution_count": 2,
   "id": "5c53e469",
   "metadata": {},
   "outputs": [
    {
     "name": "stdout",
     "output_type": "stream",
     "text": [
      "total 32\r\n",
      "-rw-rw-r-- 1 ubuntu ubuntu    2 Oct 29 14:39 1.sh\r\n",
      "-rw-rw-r-- 1 ubuntu ubuntu    5 Oct 29 14:41 1.txt\r\n",
      "-rw-rw-r-- 1 ubuntu ubuntu 4228 Oct 29 14:35 2-1.ipynb\r\n",
      "-rw-rw-r-- 1 ubuntu ubuntu 4029 Oct 29 14:35 2-2.ipynb\r\n",
      "-rw-rw-r-- 1 ubuntu ubuntu 3796 Oct 29 14:35 2-3.ipynb\r\n",
      "-rw-rw-r-- 1 ubuntu ubuntu 6425 Oct 29 14:35 2-4.ipynb\r\n"
     ]
    }
   ],
   "source": [
    "!chmod 664 3-2-test/*\n",
    "!ls -l 3-2-test"
   ]
  },
  {
   "cell_type": "code",
   "execution_count": 3,
   "id": "73f1ac0d",
   "metadata": {},
   "outputs": [],
   "source": [
    "directory = \"3-2-test\"\n",
    "for f in os.listdir(directory):\n",
    "    if f.endswith((\".ipynb\",\".sh\")): # 传入元组可以起到满足其中一个就返回True的效果\n",
    "        file = directory + \"/\" + f\n",
    "        s = os.stat(file)\n",
    "        os.chmod(file,s.st_mode | stat.S_IXUSR) # 当然也可以 s.st_mode | 0o100"
   ]
  },
  {
   "cell_type": "code",
   "execution_count": 4,
   "id": "6e5e614b",
   "metadata": {
    "scrolled": true
   },
   "outputs": [
    {
     "name": "stdout",
     "output_type": "stream",
     "text": [
      "total 32\r\n",
      "-rwxrw-r-- 1 ubuntu ubuntu    2 Oct 29 14:39 1.sh\r\n",
      "-rw-rw-r-- 1 ubuntu ubuntu    5 Oct 29 14:41 1.txt\r\n",
      "-rwxrw-r-- 1 ubuntu ubuntu 4228 Oct 29 14:35 2-1.ipynb\r\n",
      "-rwxrw-r-- 1 ubuntu ubuntu 4029 Oct 29 14:35 2-2.ipynb\r\n",
      "-rwxrw-r-- 1 ubuntu ubuntu 3796 Oct 29 14:35 2-3.ipynb\r\n",
      "-rwxrw-r-- 1 ubuntu ubuntu 6425 Oct 29 14:35 2-4.ipynb\r\n"
     ]
    }
   ],
   "source": [
    "!ls -l 3-2-test"
   ]
  },
  {
   "cell_type": "markdown",
   "id": "dce209ed",
   "metadata": {},
   "source": [
    "## 解读"
   ]
  },
  {
   "cell_type": "code",
   "execution_count": 5,
   "id": "0fcce1c4",
   "metadata": {},
   "outputs": [
    {
     "data": {
      "text/plain": [
       "'0o100664'"
      ]
     },
     "execution_count": 5,
     "metadata": {},
     "output_type": "execute_result"
    }
   ],
   "source": [
    "oct(os.stat(directory + \"/\" + \"1.txt\").st_mode) # 转为8进制后可以看到后三位表示664即user,group,other的权限"
   ]
  },
  {
   "cell_type": "code",
   "execution_count": 6,
   "id": "bb3fdc04",
   "metadata": {},
   "outputs": [
    {
     "data": {
      "text/plain": [
       "'0o764'"
      ]
     },
     "execution_count": 6,
     "metadata": {},
     "output_type": "execute_result"
    }
   ],
   "source": [
    "oct(0o664 | 0o100) # 即二进制或的操作，将user的可执行权限赋予了. rwx 分别对应 421"
   ]
  }
 ],
 "metadata": {
  "kernelspec": {
   "display_name": "Python 3 (ipykernel)",
   "language": "python",
   "name": "python3"
  },
  "language_info": {
   "codemirror_mode": {
    "name": "ipython",
    "version": 3
   },
   "file_extension": ".py",
   "mimetype": "text/x-python",
   "name": "python",
   "nbconvert_exporter": "python",
   "pygments_lexer": "ipython3",
   "version": "3.8.10"
  },
  "toc": {
   "base_numbering": 1,
   "nav_menu": {},
   "number_sections": true,
   "sideBar": true,
   "skip_h1_title": false,
   "title_cell": "Table of Contents",
   "title_sidebar": "Contents",
   "toc_cell": false,
   "toc_position": {},
   "toc_section_display": true,
   "toc_window_display": false
  }
 },
 "nbformat": 4,
 "nbformat_minor": 5
}
