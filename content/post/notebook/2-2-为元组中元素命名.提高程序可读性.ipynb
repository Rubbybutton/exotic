{
 "cells": [
  {
   "cell_type": "markdown",
   "id": "529cb883",
   "metadata": {},
   "source": [
    "# 2-2-为元组中元素命名.提高程序可读性"
   ]
  },
  {
   "cell_type": "markdown",
   "id": "4d5fe487",
   "metadata": {},
   "source": [
    "## 定义数值常量"
   ]
  },
  {
   "cell_type": "code",
   "execution_count": 1,
   "id": "df7c2685",
   "metadata": {},
   "outputs": [],
   "source": [
    "s = (\"Zack\",18,1) # student"
   ]
  },
  {
   "cell_type": "code",
   "execution_count": 2,
   "id": "e8aca5a6",
   "metadata": {},
   "outputs": [],
   "source": [
    "NAME,AGE,SEX = range(3)"
   ]
  },
  {
   "cell_type": "markdown",
   "id": "ea68f140",
   "metadata": {},
   "source": [
    "## 枚举 --- Enum 库"
   ]
  },
  {
   "cell_type": "code",
   "execution_count": 3,
   "id": "b022369c",
   "metadata": {},
   "outputs": [],
   "source": [
    "t = (18,\"Alice\") # teacher, format is different from the one of student\n",
    "# if use constant , we should define STUDENT_NAME,STUDENT_...,TEACHER_NAME,TEACHER_..."
   ]
  },
  {
   "cell_type": "code",
   "execution_count": 4,
   "id": "bc01bc2f",
   "metadata": {},
   "outputs": [],
   "source": [
    "from enum import IntEnum\n",
    "class StudentEnum(IntEnum):\n",
    "    NAME = 0\n",
    "    AGE = 1\n",
    "    SEX = 2"
   ]
  },
  {
   "cell_type": "code",
   "execution_count": 5,
   "id": "1ffcc4db",
   "metadata": {},
   "outputs": [
    {
     "data": {
      "text/plain": [
       "18"
      ]
     },
     "execution_count": 5,
     "metadata": {},
     "output_type": "execute_result"
    }
   ],
   "source": [
    "s[StudentEnum.AGE]"
   ]
  },
  {
   "cell_type": "code",
   "execution_count": 6,
   "id": "31551931",
   "metadata": {},
   "outputs": [
    {
     "data": {
      "text/plain": [
       "True"
      ]
     },
     "execution_count": 6,
     "metadata": {},
     "output_type": "execute_result"
    }
   ],
   "source": [
    "isinstance(StudentEnum.NAME,int)"
   ]
  },
  {
   "cell_type": "markdown",
   "id": "17a74070",
   "metadata": {},
   "source": [
    "## Collections.namedtuple"
   ]
  },
  {
   "cell_type": "code",
   "execution_count": 7,
   "id": "d0b1ff02",
   "metadata": {},
   "outputs": [],
   "source": [
    "from collections import namedtuple"
   ]
  },
  {
   "cell_type": "code",
   "execution_count": 8,
   "id": "26c92912",
   "metadata": {},
   "outputs": [],
   "source": [
    "Student = namedtuple(\"Student\",[\"NAME\",'AGE','SEX'])"
   ]
  },
  {
   "cell_type": "code",
   "execution_count": 9,
   "id": "44b62b2e",
   "metadata": {},
   "outputs": [
    {
     "data": {
      "text/plain": [
       "Student(NAME='Zack', AGE=18, SEX=1)"
      ]
     },
     "execution_count": 9,
     "metadata": {},
     "output_type": "execute_result"
    }
   ],
   "source": [
    "s2 = Student(\"Zack\",18,1)\n",
    "s2"
   ]
  },
  {
   "cell_type": "code",
   "execution_count": 10,
   "id": "10144374",
   "metadata": {},
   "outputs": [
    {
     "data": {
      "text/plain": [
       "True"
      ]
     },
     "execution_count": 10,
     "metadata": {},
     "output_type": "execute_result"
    }
   ],
   "source": [
    "isinstance(s2,tuple)"
   ]
  },
  {
   "cell_type": "code",
   "execution_count": 11,
   "id": "1d16e406",
   "metadata": {},
   "outputs": [
    {
     "data": {
      "text/plain": [
       "'Zack'"
      ]
     },
     "execution_count": 11,
     "metadata": {},
     "output_type": "execute_result"
    }
   ],
   "source": [
    "s2.NAME # also s2[0], but not recommanded"
   ]
  }
 ],
 "metadata": {
  "kernelspec": {
   "display_name": "Python 3 (ipykernel)",
   "language": "python",
   "name": "python3"
  },
  "language_info": {
   "codemirror_mode": {
    "name": "ipython",
    "version": 3
   },
   "file_extension": ".py",
   "mimetype": "text/x-python",
   "name": "python",
   "nbconvert_exporter": "python",
   "pygments_lexer": "ipython3",
   "version": "3.8.10"
  },
  "toc": {
   "base_numbering": 1,
   "nav_menu": {},
   "number_sections": true,
   "sideBar": true,
   "skip_h1_title": false,
   "title_cell": "Table of Contents",
   "title_sidebar": "Contents",
   "toc_cell": false,
   "toc_position": {},
   "toc_section_display": true,
   "toc_window_display": false
  }
 },
 "nbformat": 4,
 "nbformat_minor": 5
}
