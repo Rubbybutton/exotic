{
 "cells": [
  {
   "cell_type": "markdown",
   "id": "7245af71",
   "metadata": {},
   "source": [
    "# 2-1 在列表，字典，集合中根据条件过滤"
   ]
  },
  {
   "cell_type": "markdown",
   "id": "a5919d10",
   "metadata": {},
   "source": [
    "## List"
   ]
  },
  {
   "cell_type": "code",
   "execution_count": 5,
   "id": "7c5cc622",
   "metadata": {},
   "outputs": [
    {
     "data": {
      "text/plain": [
       "[10, 6, 9]"
      ]
     },
     "execution_count": 5,
     "metadata": {},
     "output_type": "execute_result"
    }
   ],
   "source": [
    "from random import randint\n",
    "l = [randint(-10,10) for _ in range(10)]\n",
    "x = [x for x in l if x > 0]\n",
    "x"
   ]
  },
  {
   "cell_type": "code",
   "execution_count": 8,
   "id": "43ae456f",
   "metadata": {},
   "outputs": [
    {
     "data": {
      "text/plain": [
       "[10, 6, 9]"
      ]
     },
     "execution_count": 8,
     "metadata": {},
     "output_type": "execute_result"
    }
   ],
   "source": [
    "list(filter(lambda x:x>0, l))"
   ]
  },
  {
   "cell_type": "markdown",
   "id": "6727ab69",
   "metadata": {},
   "source": [
    "## Dict"
   ]
  },
  {
   "cell_type": "code",
   "execution_count": 11,
   "id": "5d7f2ea8",
   "metadata": {},
   "outputs": [
    {
     "data": {
      "text/plain": [
       "{'student1': 55,\n",
       " 'student2': 83,\n",
       " 'student3': 51,\n",
       " 'student4': 59,\n",
       " 'student5': 66,\n",
       " 'student6': 69,\n",
       " 'student7': 70,\n",
       " 'student8': 82,\n",
       " 'student9': 52,\n",
       " 'student10': 76,\n",
       " 'student11': 84,\n",
       " 'student12': 50,\n",
       " 'student13': 62,\n",
       " 'student14': 82,\n",
       " 'student15': 70,\n",
       " 'student16': 55,\n",
       " 'student17': 98,\n",
       " 'student18': 74,\n",
       " 'student19': 60,\n",
       " 'student20': 59}"
      ]
     },
     "execution_count": 11,
     "metadata": {},
     "output_type": "execute_result"
    }
   ],
   "source": [
    "d = {\"student%d\" % i: randint(50,100) for i in range(1,21)}\n",
    "d"
   ]
  },
  {
   "cell_type": "code",
   "execution_count": 13,
   "id": "95a9f1ac",
   "metadata": {},
   "outputs": [
    {
     "data": {
      "text/plain": [
       "{'student17': 98}"
      ]
     },
     "execution_count": 13,
     "metadata": {},
     "output_type": "execute_result"
    }
   ],
   "source": [
    "{k:v for k,v in d.items() if v >= 90}"
   ]
  },
  {
   "cell_type": "code",
   "execution_count": 16,
   "id": "12ee8c6b",
   "metadata": {},
   "outputs": [
    {
     "data": {
      "text/plain": [
       "{'student17': 98}"
      ]
     },
     "execution_count": 16,
     "metadata": {},
     "output_type": "execute_result"
    }
   ],
   "source": [
    "dict(filter(lambda x: x[1] >= 90, d.items()))"
   ]
  },
  {
   "cell_type": "markdown",
   "id": "ee04b6a3",
   "metadata": {},
   "source": [
    "## Set"
   ]
  },
  {
   "cell_type": "code",
   "execution_count": 21,
   "id": "2f87534c",
   "metadata": {},
   "outputs": [
    {
     "data": {
      "text/plain": [
       "{0, 1, 4, 5, 6, 7, 9, 11, 12, 14, 15, 16, 17, 18}"
      ]
     },
     "execution_count": 21,
     "metadata": {},
     "output_type": "execute_result"
    }
   ],
   "source": [
    "s = {randint(0,20) for _ in range(20)}\n",
    "s"
   ]
  },
  {
   "cell_type": "code",
   "execution_count": 22,
   "id": "a0636876",
   "metadata": {},
   "outputs": [
    {
     "data": {
      "text/plain": [
       "{0, 6, 9, 12, 15, 18}"
      ]
     },
     "execution_count": 22,
     "metadata": {},
     "output_type": "execute_result"
    }
   ],
   "source": [
    "{x for x in s if x % 3 ==0}"
   ]
  }
 ],
 "metadata": {
  "kernelspec": {
   "display_name": "Python 3 (ipykernel)",
   "language": "python",
   "name": "python3"
  },
  "language_info": {
   "codemirror_mode": {
    "name": "ipython",
    "version": 3
   },
   "file_extension": ".py",
   "mimetype": "text/x-python",
   "name": "python",
   "nbconvert_exporter": "python",
   "pygments_lexer": "ipython3",
   "version": "3.8.10"
  },
  "toc": {
   "base_numbering": 1,
   "nav_menu": {},
   "number_sections": true,
   "sideBar": true,
   "skip_h1_title": false,
   "title_cell": "Table of Contents",
   "title_sidebar": "Contents",
   "toc_cell": false,
   "toc_position": {},
   "toc_section_display": true,
   "toc_window_display": false
  }
 },
 "nbformat": 4,
 "nbformat_minor": 5
}
