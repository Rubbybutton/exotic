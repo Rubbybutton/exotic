{
 "cells": [
  {
   "cell_type": "markdown",
   "id": "e313c165",
   "metadata": {},
   "source": [
    "# 5-4-如何将文件映射到内存"
   ]
  },
  {
   "cell_type": "markdown",
   "id": "68fc687f",
   "metadata": {},
   "source": [
    "## 实际案例\n",
    "1. 在访问某些二进制文件时，希望把文件映射到内存中，可以实现随机访问。(`framebuffer`设备文件，控制屏幕显示)\n",
    "2. 某些嵌入式设备，寄存器被编址到内存地址空间，我们可以映射`/dev/mem`某范围，去访问这些寄存器\n",
    "3. 如果多个进程映射同一个文件，还能实现进程通信的目的"
   ]
  },
  {
   "cell_type": "code",
   "execution_count": 1,
   "id": "56be6371",
   "metadata": {},
   "outputs": [
    {
     "name": "stdout",
     "output_type": "stream",
     "text": [
      "1024+0 records in\r\n",
      "1024+0 records out\r\n",
      "1048576 bytes (1.0 MB, 1.0 MiB) copied, 0.00266273 s, 394 MB/s\r\n"
     ]
    }
   ],
   "source": [
    "!dd if=/dev/zero of=./5-4-test.bin bs=1024 count=1024"
   ]
  },
  {
   "cell_type": "code",
   "execution_count": 2,
   "id": "b344bcc3",
   "metadata": {},
   "outputs": [
    {
     "name": "stdout",
     "output_type": "stream",
     "text": [
      "0000000 0000 0000 0000 0000 0000 0000 0000 0000\r\n",
      "*\r\n",
      "4000000\r\n"
     ]
    }
   ],
   "source": [
    "!od -x ./5-4-test.bin # 以16进制查看文件"
   ]
  },
  {
   "cell_type": "markdown",
   "id": "fbd7af9a",
   "metadata": {},
   "source": [
    "## python"
   ]
  },
  {
   "cell_type": "code",
   "execution_count": 3,
   "id": "e11b827f",
   "metadata": {},
   "outputs": [],
   "source": [
    "import mmap"
   ]
  },
  {
   "cell_type": "markdown",
   "id": "7cbf5a82",
   "metadata": {},
   "source": [
    "`mmap.mmap?`  \n",
    "Init signature: mmap.mmap(self, /, *args, **kwargs)\n",
    "Docstring:     \n",
    "Windows: mmap(fileno, length[, tagname[, access[, offset]]])\n",
    "\n",
    "Maps length bytes from the file specified by the file handle fileno,\n",
    "and returns a mmap object.  If length is larger than the current size\n",
    "of the file, the file is extended to contain length bytes.  If length\n",
    "is 0, the maximum length of the map is the current size of the file,\n",
    "except that if the file is empty Windows raises an exception (you cannot\n",
    "create an empty mapping on Windows).\n",
    "\n",
    "Unix: mmap(fileno, length[, flags[, prot[, access[, offset]]]])\n",
    "\n",
    "Maps length bytes from the file specified by the file descriptor fileno,\n",
    "and returns a mmap object.  If length is 0, the maximum length of the map\n",
    "will be the current size of the file when mmap is called.\n",
    "flags specifies the nature of the mapping. MAP_PRIVATE creates a\n",
    "private copy-on-write mapping, so changes to the contents of the mmap\n",
    "object will be private to this process, and MAP_SHARED creates a mapping\n",
    "that's shared with all other processes mapping the same areas of the file.\n",
    "The default value is MAP_SHARED.\n",
    "\n",
    "To map anonymous memory, pass -1 as the fileno (both versions).\n",
    "File:           /usr/lib/python3.8/lib-dynload/mmap.cpython-38-x86_64-linux-gnu.so\n",
    "Type:           type\n",
    "Subclasses:     \n",
    "\n",
    "---\n",
    "\n",
    "`Unix: mmap(fileno, length[, flags[, prot[, access[, offset]]]])`\n",
    "\n",
    "---\n",
    "\n",
    "`fileno`是`文件描述符`  \n",
    "在python里可以使用`os.open`或者`open(\"xxx\",\"xx\").fileno()`返回\n",
    "___\n",
    "\n",
    "`length`映射长度，长度为0,则整个文件都映射  \n",
    "___\n",
    "\n",
    "`offset` 设置映射起始点，必须是页对齐，即必须是整页整页映射（可以使用`mmap.PAGESIZE`查看页大小），即传入的`offset`大小必须是页大小的整数倍\n",
    "___\n",
    "\n",
    "`flag` 指定映射模式,`MAP_PRIVATE`,和`MAP_SHARED`，是否可被共享。\n",
    "___\n",
    "\n",
    "`prot` 指定文件读写权限`mmap.PROT_EXEC` `mmap.PROT_READ` `mmap.PROT_WRITE`"
   ]
  },
  {
   "cell_type": "code",
   "execution_count": 4,
   "id": "617ae012",
   "metadata": {},
   "outputs": [
    {
     "data": {
      "text/plain": [
       "3"
      ]
     },
     "execution_count": 4,
     "metadata": {},
     "output_type": "execute_result"
    }
   ],
   "source": [
    "f = open(\"./5-4-test.bin\",\"r+b\")\n",
    "m = mmap.mmap(f.fileno(),0)\n",
    "m.write(b\"abc\")"
   ]
  },
  {
   "cell_type": "code",
   "execution_count": 5,
   "id": "cce0549d",
   "metadata": {},
   "outputs": [
    {
     "name": "stdout",
     "output_type": "stream",
     "text": [
      "0000000 6261 0063 0000 0000 0000 0000 0000 0000\r\n",
      "0000020 0000 0000 0000 0000 0000 0000 0000 0000\r\n",
      "*\r\n",
      "4000000\r\n"
     ]
    }
   ],
   "source": [
    "!od -x ./5-4-test.bin"
   ]
  },
  {
   "cell_type": "code",
   "execution_count": 6,
   "id": "79a29097",
   "metadata": {},
   "outputs": [
    {
     "data": {
      "text/plain": [
       "(97, 98, 99, b'abc')"
      ]
     },
     "execution_count": 6,
     "metadata": {},
     "output_type": "execute_result"
    }
   ],
   "source": [
    "m[0],m[1],m[2],m[:3] # a,b,c"
   ]
  },
  {
   "cell_type": "code",
   "execution_count": 7,
   "id": "70fc10ba",
   "metadata": {},
   "outputs": [],
   "source": [
    "m[1] = 78"
   ]
  },
  {
   "cell_type": "code",
   "execution_count": 8,
   "id": "1976385d",
   "metadata": {},
   "outputs": [
    {
     "data": {
      "text/plain": [
       "78"
      ]
     },
     "execution_count": 8,
     "metadata": {},
     "output_type": "execute_result"
    }
   ],
   "source": [
    "m[1]"
   ]
  },
  {
   "cell_type": "code",
   "execution_count": 9,
   "id": "59095e68",
   "metadata": {},
   "outputs": [
    {
     "name": "stdout",
     "output_type": "stream",
     "text": [
      "0000000 4e61 0063 0000 0000 0000 0000 0000 0000\r\n",
      "0000020 0000 0000 0000 0000 0000 0000 0000 0000\r\n",
      "*\r\n",
      "4000000\r\n"
     ]
    }
   ],
   "source": [
    "!od -x ./5-4-test.bin"
   ]
  },
  {
   "cell_type": "code",
   "execution_count": 10,
   "id": "4a0fa105",
   "metadata": {},
   "outputs": [],
   "source": [
    "m[:3] = b\"\\xaa\" * 3"
   ]
  },
  {
   "cell_type": "markdown",
   "id": "6f0c6ae4",
   "metadata": {},
   "source": [
    "## 实例，操作`framebuffer`文件,使显示上面一半变白"
   ]
  },
  {
   "cell_type": "markdown",
   "id": "1d6bab08",
   "metadata": {},
   "source": [
    "使用`sudo fbset`命令查看`framebuffer`文件\n",
    "```\n",
    "mode \"3200x2000\"\n",
    "    geometry 3200 2000 3200 2000 32\n",
    "    timings 0 0 0 0 0 0 0\n",
    "    accel true\n",
    "    rgba 8/16,8/8,8/0,0/0\n",
    "endmode\n",
    "```\n",
    "---\n",
    "`32`表示4*8,即4位，也就是rgba占用位数  "
   ]
  },
  {
   "cell_type": "code",
   "execution_count": null,
   "id": "4925b9a5",
   "metadata": {},
   "outputs": [],
   "source": [
    "# import mmap\n",
    "# with open(\"/dev/fb0\",\"r+b\") as f:\n",
    "#     size = 3200 * 2000 * 4 # 见上面`fbset`命令输出的设备信息\n",
    "#     m = mmap.mmap(f.fileno(),size)\n",
    "#     m[:size//2] = b\"\\xff\\xff\\xff\\x00\" * (size // 4 // 2)\n",
    "#     m.close()"
   ]
  },
  {
   "cell_type": "markdown",
   "id": "71ff6c27",
   "metadata": {},
   "source": [
    "注意使用`Ctrl-Alt-F$` (`$`为数字1,2,3,etc)切换到tty后用`sudo`命令测试"
   ]
  }
 ],
 "metadata": {
  "kernelspec": {
   "display_name": "Python 3 (ipykernel)",
   "language": "python",
   "name": "python3"
  },
  "language_info": {
   "codemirror_mode": {
    "name": "ipython",
    "version": 3
   },
   "file_extension": ".py",
   "mimetype": "text/x-python",
   "name": "python",
   "nbconvert_exporter": "python",
   "pygments_lexer": "ipython3",
   "version": "3.8.10"
  },
  "toc": {
   "base_numbering": 1,
   "nav_menu": {},
   "number_sections": true,
   "sideBar": true,
   "skip_h1_title": false,
   "title_cell": "Table of Contents",
   "title_sidebar": "Contents",
   "toc_cell": false,
   "toc_position": {},
   "toc_section_display": true,
   "toc_window_display": false
  }
 },
 "nbformat": 4,
 "nbformat_minor": 5
}
