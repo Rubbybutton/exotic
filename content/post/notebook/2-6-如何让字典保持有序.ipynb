{
 "cells": [
  {
   "cell_type": "markdown",
   "id": "de2b712c",
   "metadata": {},
   "source": [
    "# 2-6-如何让字典保持有序"
   ]
  },
  {
   "cell_type": "code",
   "execution_count": 10,
   "id": "d33c6961",
   "metadata": {},
   "outputs": [],
   "source": [
    "from collections import OrderedDict"
   ]
  },
  {
   "cell_type": "markdown",
   "id": "8f966d0f",
   "metadata": {},
   "source": [
    "> python3.6之后字典已经有序,但为了兼容性可以用OrderedDict"
   ]
  },
  {
   "cell_type": "markdown",
   "id": "f9daa575",
   "metadata": {},
   "source": [
    "# 另外"
   ]
  },
  {
   "cell_type": "markdown",
   "id": "5b6fbbba",
   "metadata": {},
   "source": [
    "## 随机打乱函数"
   ]
  },
  {
   "cell_type": "code",
   "execution_count": 4,
   "id": "6b14e5d5",
   "metadata": {},
   "outputs": [],
   "source": [
    "from random import shuffle # 随机打乱"
   ]
  },
  {
   "cell_type": "code",
   "execution_count": 5,
   "id": "ced3ad06",
   "metadata": {},
   "outputs": [
    {
     "data": {
      "text/plain": [
       "['e', 'c', 'a', 'b', 'g', 'h', 'd', 'f']"
      ]
     },
     "execution_count": 5,
     "metadata": {},
     "output_type": "execute_result"
    }
   ],
   "source": [
    "players = list(\"abcdefgh\")\n",
    "shuffle(players)\n",
    "players"
   ]
  },
  {
   "cell_type": "markdown",
   "id": "0744035a",
   "metadata": {},
   "source": [
    "## 取第几到几项函数(字典不支持如d[0])"
   ]
  },
  {
   "cell_type": "code",
   "execution_count": 9,
   "id": "6b45aea9",
   "metadata": {},
   "outputs": [
    {
     "data": {
      "text/plain": [
       "['a', 'b']"
      ]
     },
     "execution_count": 9,
     "metadata": {},
     "output_type": "execute_result"
    }
   ],
   "source": [
    "from itertools import islice\n",
    "list(islice(players,2,4))"
   ]
  }
 ],
 "metadata": {
  "kernelspec": {
   "display_name": "Python 3 (ipykernel)",
   "language": "python",
   "name": "python3"
  },
  "language_info": {
   "codemirror_mode": {
    "name": "ipython",
    "version": 3
   },
   "file_extension": ".py",
   "mimetype": "text/x-python",
   "name": "python",
   "nbconvert_exporter": "python",
   "pygments_lexer": "ipython3",
   "version": "3.8.10"
  }
 },
 "nbformat": 4,
 "nbformat_minor": 5
}
