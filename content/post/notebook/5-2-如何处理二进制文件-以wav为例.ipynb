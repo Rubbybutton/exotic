{
 "cells": [
  {
   "cell_type": "markdown",
   "id": "ce1890ba",
   "metadata": {},
   "source": [
    "# 5-2-如何处理二进制文件-以wav为例"
   ]
  },
  {
   "cell_type": "markdown",
   "id": "7e17dddf",
   "metadata": {},
   "source": [
    "## wav file format\n",
    "\n",
    "![wav](./5-2-wav-format.gif)"
   ]
  },
  {
   "cell_type": "code",
   "execution_count": 1,
   "id": "9910ee05",
   "metadata": {},
   "outputs": [
    {
     "data": {
      "text/plain": [
       "b'RIFF$\\xbc(\\x00WAVEfmt \\x10\\x00\\x00\\x00\\x01\\x00\\x02\\x00\"V\\x00\\x00\\x88X\\x01\\x00\\x04\\x00\\x10\\x00data\\x00\\xbc(\\x00'"
      ]
     },
     "execution_count": 1,
     "metadata": {},
     "output_type": "execute_result"
    }
   ],
   "source": [
    "with open(\"5-2-test.wav\",\"rb\") as f:\n",
    "    info = f.read(44)\n",
    "info"
   ]
  },
  {
   "cell_type": "markdown",
   "id": "83c39ef3",
   "metadata": {},
   "source": [
    "### parse bytes"
   ]
  },
  {
   "cell_type": "code",
   "execution_count": 2,
   "id": "093255bf",
   "metadata": {},
   "outputs": [
    {
     "name": "stdout",
     "output_type": "stream",
     "text": [
      "(2,)\n",
      "(512,)\n",
      "(22050,)\n"
     ]
    }
   ],
   "source": [
    "import struct\n",
    "# to unpack the num channels\n",
    "print(struct.unpack(\"h\",info[22:24])) # two bytes of integer , so we use \"h\"\n",
    "print(struct.unpack(\">h\",info[22:24])) # use big endianness\n",
    "# to unpack the sample rate\n",
    "print(struct.unpack(\"i\",info[24:28]))"
   ]
  },
  {
   "cell_type": "code",
   "execution_count": 3,
   "id": "9f347da7",
   "metadata": {},
   "outputs": [
    {
     "data": {
      "text/plain": [
       "36"
      ]
     },
     "execution_count": 3,
     "metadata": {},
     "output_type": "execute_result"
    }
   ],
   "source": [
    "info.find(b\"data\")"
   ]
  },
  {
   "cell_type": "markdown",
   "id": "c3480c6d",
   "metadata": {},
   "source": [
    "然而上图表示的并不是很准确，有些wav文件也不是完全按这样的  \n",
    "我们可以通过每个区块的chunksize来读取文件"
   ]
  },
  {
   "cell_type": "markdown",
   "id": "66e0779d",
   "metadata": {},
   "source": [
    "### func (find specific subchunk postion)"
   ]
  },
  {
   "cell_type": "code",
   "execution_count": 4,
   "id": "7f1b9c32",
   "metadata": {},
   "outputs": [],
   "source": [
    "def find_subchunk(f,name):\n",
    "    f.seek(12) # the begining 12 bytes is fixed\n",
    "    while True:\n",
    "        chunk_name = f.read(4)\n",
    "        chunk_size, = struct.unpack(\"i\",f.read(4)) # notice there is a comma after the word \"chunk_size\"\n",
    "        \n",
    "        if chunk_name == name:\n",
    "            return f.tell(),chunk_size\n",
    "        \n",
    "        f.seek(chunk_size,1) # 1 denote the current position"
   ]
  },
  {
   "cell_type": "code",
   "execution_count": 5,
   "id": "f69f2c3b",
   "metadata": {
    "scrolled": true
   },
   "outputs": [
    {
     "data": {
      "text/plain": [
       "(44, 2669568, 2669612)"
      ]
     },
     "execution_count": 5,
     "metadata": {},
     "output_type": "execute_result"
    }
   ],
   "source": [
    "with open(\"5-2-test.wav\",\"rb\") as f:\n",
    "    offset,size  = find_subchunk(f,b\"data\")\n",
    "offset,size,offset+size"
   ]
  },
  {
   "cell_type": "code",
   "execution_count": 6,
   "id": "d655c6fc",
   "metadata": {},
   "outputs": [
    {
     "name": "stdout",
     "output_type": "stream",
     "text": [
      "-rw-r--r-- 1 ubuntu 2669612 Nov 10 08:04 \u001b[0m\u001b[00;36m5-2-test.wav\u001b[0m\r\n"
     ]
    }
   ],
   "source": [
    "ll 5-2-test.wav"
   ]
  },
  {
   "cell_type": "markdown",
   "id": "199c69f9",
   "metadata": {},
   "source": [
    "### example: to lower the sound"
   ]
  },
  {
   "cell_type": "code",
   "execution_count": 7,
   "id": "fa5f9032",
   "metadata": {},
   "outputs": [
    {
     "data": {
      "text/plain": [
       "array([0, 0, 0, ..., 0, 0, 0], dtype=int16)"
      ]
     },
     "execution_count": 7,
     "metadata": {},
     "output_type": "execute_result"
    }
   ],
   "source": [
    "import numpy as np\n",
    "buf = np.zeros(size//2,dtype=np.short) # np.short means 2 bytes, i.e. \"h\". This information is got from Num Channels. So size should // 2\n",
    "buf"
   ]
  },
  {
   "cell_type": "code",
   "execution_count": 8,
   "id": "e97f7591",
   "metadata": {},
   "outputs": [
    {
     "data": {
      "text/plain": [
       "array([ -50, -298, -148,   68, -228,  173,  -98,  -77,  130, -294,  175,\n",
       "       -123,   68,   77,  -57,  162,    7, -112,   34, -232], dtype=int16)"
      ]
     },
     "execution_count": 8,
     "metadata": {},
     "output_type": "execute_result"
    }
   ],
   "source": [
    "f = open(\"5-2-test.wav\",\"rb\")\n",
    "offset,size  = find_subchunk(f,b\"data\") # the pointer positon has been changed to the offset\n",
    "f.readinto(buf) # read exactly the number of bytes as the size of buf into buf\n",
    "buf[1000:1020]"
   ]
  },
  {
   "cell_type": "code",
   "execution_count": 9,
   "id": "e6d9b70c",
   "metadata": {},
   "outputs": [],
   "source": [
    "buf //= 8\n",
    "f2 = open(\"5-2-test-out.wav\",\"wb\")\n",
    "f.seek(0)\n",
    "info = f.read(offset)\n",
    "f2.write(info)\n",
    "buf.tofile(f2) # better than f.write(buf.tobytes())\n",
    "f2.close()\n",
    "f.close()"
   ]
  }
 ],
 "metadata": {
  "kernelspec": {
   "display_name": "Python 3 (ipykernel)",
   "language": "python",
   "name": "python3"
  },
  "language_info": {
   "codemirror_mode": {
    "name": "ipython",
    "version": 3
   },
   "file_extension": ".py",
   "mimetype": "text/x-python",
   "name": "python",
   "nbconvert_exporter": "python",
   "pygments_lexer": "ipython3",
   "version": "3.8.10"
  },
  "toc": {
   "base_numbering": 1,
   "nav_menu": {},
   "number_sections": true,
   "sideBar": true,
   "skip_h1_title": false,
   "title_cell": "Table of Contents",
   "title_sidebar": "Contents",
   "toc_cell": false,
   "toc_position": {},
   "toc_section_display": true,
   "toc_window_display": false
  }
 },
 "nbformat": 4,
 "nbformat_minor": 5
}
