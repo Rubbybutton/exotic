{
 "cells": [
  {
   "cell_type": "markdown",
   "id": "37cf4cdc",
   "metadata": {},
   "source": [
    "# 5-5-如何访问文件的状态"
   ]
  },
  {
   "cell_type": "markdown",
   "id": "53cef81d",
   "metadata": {},
   "source": [
    "## 实际案例\n",
    "某些项目中，我们需要获得文件状态，例如：\n",
    "1. 文件类型(普通文件、目录、符号链接、设备文件)\n",
    "2. 文件的访问权限\n",
    "3. 文件的最后访问、修改、节点状态更改(修改文件属性)时间\n",
    "4. 普通文件大小"
   ]
  },
  {
   "cell_type": "markdown",
   "id": "ffe0d72e",
   "metadata": {},
   "source": [
    "## 系统调用 方式"
   ]
  },
  {
   "cell_type": "code",
   "execution_count": 1,
   "id": "0dbb7798",
   "metadata": {},
   "outputs": [],
   "source": [
    "import os"
   ]
  },
  {
   "cell_type": "code",
   "execution_count": 2,
   "id": "fec55a6e",
   "metadata": {},
   "outputs": [
    {
     "data": {
      "text/plain": [
       "b'import os\\n'"
      ]
     },
     "execution_count": 2,
     "metadata": {},
     "output_type": "execute_result"
    }
   ],
   "source": [
    "fd = os.open(\"./5-5-test/q.py\", os.O_RDONLY) # 文件描述符对象,其实就是个数字，可以给系统调用的其他方法用\n",
    "os.read(fd,10)"
   ]
  },
  {
   "cell_type": "code",
   "execution_count": 3,
   "id": "41cbf714",
   "metadata": {},
   "outputs": [
    {
     "data": {
      "text/plain": [
       "os.stat_result(st_mode=33277, st_ino=2604260, st_dev=64514, st_nlink=1, st_uid=1000, st_gid=1000, st_size=32, st_atime=1636764126, st_mtime=1636764076, st_ctime=1636764076)"
      ]
     },
     "execution_count": 3,
     "metadata": {},
     "output_type": "execute_result"
    }
   ],
   "source": [
    "a = os.stat(\"./5-5-test/q.py\")\n",
    "a"
   ]
  },
  {
   "cell_type": "code",
   "execution_count": 4,
   "id": "48a033a4",
   "metadata": {},
   "outputs": [
    {
     "name": "stdout",
     "output_type": "stream",
     "text": [
      "0b1000000111111101\n",
      "-rwxrwxr-x 1 ubuntu ubuntu 32 Nov 13 08:41 ./5-5-test/q.py\n"
     ]
    }
   ],
   "source": [
    "print(bin(a.st_mode)) #后9位表示User,Group,Other的权限，前面的都是表示文件类型\n",
    "!ls -l ./5-5-test/q.py"
   ]
  },
  {
   "cell_type": "markdown",
   "id": "68819c70",
   "metadata": {},
   "source": [
    "`st_proc`表示当前文件所在设备,比如`/proc`的`st_proc`就和一般文件不同，因为它是在内存中的，一般文件是在磁盘中的。  \n",
    "`st_nlink`表示文件的链接数(硬链接)  \n",
    "`st_uid`指文件的所有者的id  \n",
    "`st_gid`指组id  \n",
    "`st_size`指文件数据大小，12个字节  \n",
    "`st_atime`访问时间  \n",
    "`st_mtime`修改时间  \n",
    "`st_ctime`节点状态修改时间"
   ]
  },
  {
   "cell_type": "markdown",
   "id": "5812fd82",
   "metadata": {},
   "source": [
    "### stat 模块\n",
    "注意下面只是演示，还有很多常量和参数，要用去看文档"
   ]
  },
  {
   "cell_type": "code",
   "execution_count": 5,
   "id": "b3e6310d",
   "metadata": {},
   "outputs": [],
   "source": [
    "import stat"
   ]
  },
  {
   "cell_type": "code",
   "execution_count": 6,
   "id": "85fa174a",
   "metadata": {},
   "outputs": [],
   "source": [
    "s = os.stat(\"./5-5-test/q.py\")\n",
    "s2 = os.stat(\"./5-5-test/d\")\n",
    "s3 = os.stat(\"./5-5-test/1.txt\")"
   ]
  },
  {
   "cell_type": "markdown",
   "id": "e8a13e0c",
   "metadata": {},
   "source": [
    "#### 文件类型"
   ]
  },
  {
   "cell_type": "code",
   "execution_count": 7,
   "id": "23553e8b",
   "metadata": {},
   "outputs": [
    {
     "name": "stdout",
     "output_type": "stream",
     "text": [
      "0\n",
      "0\n",
      "32768\n",
      "----------\n",
      "True\n"
     ]
    }
   ],
   "source": [
    "print(stat.S_IFDIR & s.st_mode)\n",
    "print(stat.S_IFCHR & s.st_mode)\n",
    "print(stat.S_IFREG & s.st_mode)\n",
    "print(\"-\"*10)\n",
    "print(stat.S_ISDIR(s2.st_mode))"
   ]
  },
  {
   "cell_type": "code",
   "execution_count": 8,
   "id": "c520ee55",
   "metadata": {},
   "outputs": [
    {
     "name": "stdout",
     "output_type": "stream",
     "text": [
      "False\n",
      "True\n"
     ]
    }
   ],
   "source": [
    "print(stat.S_ISLNK(s3.st_mode)) # s3 是符号链接，然而却显示不是，因为os.stat发现它是符号链接，就跟随它了\n",
    "s3 = os.stat(\"5-5-test/1.txt\",follow_symlinks=False) # 或者 os.lstat() 函数\n",
    "print(stat.S_ISLNK(s3.st_mode))"
   ]
  },
  {
   "cell_type": "markdown",
   "id": "ad4ebd57",
   "metadata": {},
   "source": [
    "#### 文件权限"
   ]
  },
  {
   "cell_type": "code",
   "execution_count": 9,
   "id": "cc8cfafa",
   "metadata": {},
   "outputs": [
    {
     "name": "stdout",
     "output_type": "stream",
     "text": [
      "256\n",
      "1\n"
     ]
    }
   ],
   "source": [
    "print(stat.S_IRUSR & s.st_mode) # 判断用户是否可读\n",
    "print(stat.S_IXOTH & s.st_mode) # 其他人是否可执行"
   ]
  },
  {
   "cell_type": "markdown",
   "id": "1a02e7f6",
   "metadata": {},
   "source": [
    "#### 时间"
   ]
  },
  {
   "cell_type": "code",
   "execution_count": 10,
   "id": "ec488122",
   "metadata": {},
   "outputs": [],
   "source": [
    "import time"
   ]
  },
  {
   "cell_type": "code",
   "execution_count": 11,
   "id": "80d8a131",
   "metadata": {},
   "outputs": [
    {
     "data": {
      "text/plain": [
       "time.struct_time(tm_year=2021, tm_mon=11, tm_mday=13, tm_hour=8, tm_min=42, tm_sec=6, tm_wday=5, tm_yday=317, tm_isdst=0)"
      ]
     },
     "execution_count": 11,
     "metadata": {},
     "output_type": "execute_result"
    }
   ],
   "source": [
    "time.localtime(s.st_atime)"
   ]
  },
  {
   "cell_type": "markdown",
   "id": "86d1d79a",
   "metadata": {},
   "source": [
    "## 快捷函数 os.path下函数"
   ]
  },
  {
   "cell_type": "code",
   "execution_count": 12,
   "id": "e9fce7a4",
   "metadata": {},
   "outputs": [],
   "source": [
    "import os.path as op"
   ]
  },
  {
   "cell_type": "markdown",
   "id": "b928e6f2",
   "metadata": {},
   "source": [
    "### 文件类型"
   ]
  },
  {
   "cell_type": "code",
   "execution_count": 13,
   "id": "43c99e5e",
   "metadata": {},
   "outputs": [
    {
     "data": {
      "text/plain": [
       "True"
      ]
     },
     "execution_count": 13,
     "metadata": {},
     "output_type": "execute_result"
    }
   ],
   "source": [
    "op.isdir(\"./5-5-test/d\")"
   ]
  },
  {
   "cell_type": "markdown",
   "id": "3ceee32a",
   "metadata": {},
   "source": [
    "### 文件权限 （不能）"
   ]
  },
  {
   "cell_type": "markdown",
   "id": "58c92bac",
   "metadata": {},
   "source": [
    "### 时间"
   ]
  },
  {
   "cell_type": "code",
   "execution_count": 14,
   "id": "076acaab",
   "metadata": {},
   "outputs": [
    {
     "data": {
      "text/plain": [
       "1636764126.3916626"
      ]
     },
     "execution_count": 14,
     "metadata": {},
     "output_type": "execute_result"
    }
   ],
   "source": [
    "op.getatime(\"./5-5-test/q.py\")"
   ]
  },
  {
   "cell_type": "markdown",
   "id": "a9a5bfa3",
   "metadata": {},
   "source": [
    "### 获取文件大小"
   ]
  },
  {
   "cell_type": "code",
   "execution_count": 15,
   "id": "89a8fe73",
   "metadata": {},
   "outputs": [
    {
     "data": {
      "text/plain": [
       "32"
      ]
     },
     "execution_count": 15,
     "metadata": {},
     "output_type": "execute_result"
    }
   ],
   "source": [
    "op.getsize(\"./5-5-test/q.py\")"
   ]
  }
 ],
 "metadata": {
  "kernelspec": {
   "display_name": "Python 3 (ipykernel)",
   "language": "python",
   "name": "python3"
  },
  "language_info": {
   "codemirror_mode": {
    "name": "ipython",
    "version": 3
   },
   "file_extension": ".py",
   "mimetype": "text/x-python",
   "name": "python",
   "nbconvert_exporter": "python",
   "pygments_lexer": "ipython3",
   "version": "3.8.10"
  },
  "toc": {
   "base_numbering": 1,
   "nav_menu": {},
   "number_sections": true,
   "sideBar": true,
   "skip_h1_title": false,
   "title_cell": "Table of Contents",
   "title_sidebar": "Contents",
   "toc_cell": false,
   "toc_position": {},
   "toc_section_display": true,
   "toc_window_display": false
  }
 },
 "nbformat": 4,
 "nbformat_minor": 5
}
