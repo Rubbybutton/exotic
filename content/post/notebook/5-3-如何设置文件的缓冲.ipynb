{
 "cells": [
  {
   "cell_type": "markdown",
   "id": "709b3d26",
   "metadata": {},
   "source": [
    "# 5-3-如何设置文件的缓冲"
   ]
  },
  {
   "cell_type": "markdown",
   "id": "c65711c7",
   "metadata": {},
   "source": [
    "磁盘写入时看block大小，如果一个block是4096个字节，那么写入1个字节和写入4096个字节消耗是一样的，都要把一个block全写一遍。  \n",
    "为了减少io次数，文件通常使用缓冲区(有足够多的数据才进行系统调用)  \n",
    "文件的缓冲行为，分为`全缓冲`，`行缓冲`和`无缓冲`"
   ]
  },
  {
   "cell_type": "markdown",
   "id": "e649914c",
   "metadata": {},
   "source": [
    "## 全缓冲\n",
    "linux 里使用`tail -f [filepath]` 来实时监视文件更新  \n",
    "`sudo fldisk -l`可以查看扇区大小  \n",
    "`sudo dmesg | grep block` 也可以查看  \n",
    "python如果没有找到系统扇区大小，则会默认使用io.DEFAULT_BUFFER_SIZE (8192)"
   ]
  },
  {
   "cell_type": "markdown",
   "id": "77f40308",
   "metadata": {},
   "source": [
    "### 二进制"
   ]
  },
  {
   "cell_type": "code",
   "execution_count": 1,
   "id": "e3b4bc53",
   "metadata": {},
   "outputs": [],
   "source": [
    "# f = open(\"xx\" , \"wb\")\n",
    "# f.write(b\"+\" * 4096)\n",
    "# f.write(b\"-\") # 此时会显示4096个\"+\", 而\"-\"不会显示"
   ]
  },
  {
   "cell_type": "markdown",
   "id": "5ab940b1",
   "metadata": {},
   "source": [
    "### 文本\n",
    "见下图，也就是说写入8192个字节后可以写入物理磁盘\n",
    "`f = open(\"xx\" , \"w\")` 后 请看`f.buffer` 和 `f.raw` 返回对象,`f.buffer`返回对象和以二进制打开返回对象类型相同\n",
    "![5-5-1](./5-3-illustrate.png)"
   ]
  },
  {
   "cell_type": "markdown",
   "id": "03d49765",
   "metadata": {},
   "source": [
    "## 行缓冲\n",
    "只能文本模式，遇到换行才写入  \n",
    "linux 中 `shell`就是行缓冲的"
   ]
  },
  {
   "cell_type": "code",
   "execution_count": 2,
   "id": "9055a4b7",
   "metadata": {},
   "outputs": [
    {
     "name": "stdout",
     "output_type": "stream",
     "text": [
      "/dev/pts/0\r\n"
     ]
    }
   ],
   "source": [
    "!tty"
   ]
  },
  {
   "cell_type": "code",
   "execution_count": 3,
   "id": "682614cb",
   "metadata": {},
   "outputs": [
    {
     "name": "stdout",
     "output_type": "stream",
     "text": [
      "crw--w---- 1 ubuntu tty 136, 0 Nov 11 10:59 /dev/pts/0\r\n"
     ]
    }
   ],
   "source": [
    "!ls -l /dev/pts/0"
   ]
  },
  {
   "cell_type": "code",
   "execution_count": 4,
   "id": "4ab0b55b",
   "metadata": {},
   "outputs": [
    {
     "ename": "PermissionError",
     "evalue": "[Errno 13] Permission denied: '/dev/pts/0'",
     "output_type": "error",
     "traceback": [
      "\u001b[0;31m---------------------------------------------------------------------------\u001b[0m",
      "\u001b[0;31mPermissionError\u001b[0m                           Traceback (most recent call last)",
      "\u001b[0;32m/tmp/ipykernel_3958608/4013479514.py\u001b[0m in \u001b[0;36m<module>\u001b[0;34m\u001b[0m\n\u001b[0;32m----> 1\u001b[0;31m \u001b[0;32mwith\u001b[0m \u001b[0mopen\u001b[0m\u001b[0;34m(\u001b[0m\u001b[0;34m\"/dev/pts/0\"\u001b[0m\u001b[0;34m,\u001b[0m\u001b[0;34m\"w\"\u001b[0m\u001b[0;34m)\u001b[0m \u001b[0;32mas\u001b[0m \u001b[0mf\u001b[0m\u001b[0;34m:\u001b[0m\u001b[0;34m\u001b[0m\u001b[0;34m\u001b[0m\u001b[0m\n\u001b[0m\u001b[1;32m      2\u001b[0m     \u001b[0mf\u001b[0m\u001b[0;34m.\u001b[0m\u001b[0mwrite\u001b[0m\u001b[0;34m(\u001b[0m\u001b[0;34m\"abc\"\u001b[0m\u001b[0;34m)\u001b[0m\u001b[0;34m\u001b[0m\u001b[0;34m\u001b[0m\u001b[0m\n\u001b[1;32m      3\u001b[0m     \u001b[0mf\u001b[0m\u001b[0;34m.\u001b[0m\u001b[0mwrite\u001b[0m\u001b[0;34m(\u001b[0m\u001b[0;34m\"efg\"\u001b[0m\u001b[0;34m)\u001b[0m\u001b[0;34m\u001b[0m\u001b[0;34m\u001b[0m\u001b[0m\n\u001b[1;32m      4\u001b[0m     \u001b[0mf\u001b[0m\u001b[0;34m.\u001b[0m\u001b[0mwrite\u001b[0m\u001b[0;34m(\u001b[0m\u001b[0;34m\"\\n\"\u001b[0m\u001b[0;34m)\u001b[0m \u001b[0;31m# 此时终端上会显示abcefg以及看不见的换行\u001b[0m\u001b[0;34m\u001b[0m\u001b[0;34m\u001b[0m\u001b[0m\n",
      "\u001b[0;31mPermissionError\u001b[0m: [Errno 13] Permission denied: '/dev/pts/0'"
     ]
    }
   ],
   "source": [
    "with open(\"/dev/pts/0\",\"w\") as f:\n",
    "    f.write(\"abc\")\n",
    "    f.write(\"efg\")\n",
    "    f.write(\"\\n\") # 此时终端上会显示abcefg以及看不见的换行"
   ]
  },
  {
   "cell_type": "markdown",
   "id": "bdc67a0e",
   "metadata": {},
   "source": [
    "## python 设置文件缓冲"
   ]
  },
  {
   "cell_type": "code",
   "execution_count": null,
   "id": "335fba4e",
   "metadata": {},
   "outputs": [],
   "source": [
    "with open(\"xx\",\"wb\",buffering=0) as f: # 无缓冲\n",
    "    pass\n",
    "with open(\"xx\",\"wb\",buffering=8192) as f: # 缓冲设为8192\n",
    "    pass\n",
    "with open(\"xx\",\"w\",buffering=1) as f: # 文本模式，设置为行缓冲\n",
    "    pass\n",
    "with open(\"xx\",\"wb\") as f:\n",
    "    # f.raw.write(\"a\") # 无缓冲\n",
    "    pass"
   ]
  }
 ],
 "metadata": {
  "kernelspec": {
   "display_name": "Python 3 (ipykernel)",
   "language": "python",
   "name": "python3"
  },
  "language_info": {
   "codemirror_mode": {
    "name": "ipython",
    "version": 3
   },
   "file_extension": ".py",
   "mimetype": "text/x-python",
   "name": "python",
   "nbconvert_exporter": "python",
   "pygments_lexer": "ipython3",
   "version": "3.8.10"
  },
  "toc": {
   "base_numbering": 1,
   "nav_menu": {},
   "number_sections": true,
   "sideBar": true,
   "skip_h1_title": false,
   "title_cell": "Table of Contents",
   "title_sidebar": "Contents",
   "toc_cell": false,
   "toc_position": {},
   "toc_section_display": true,
   "toc_window_display": false
  }
 },
 "nbformat": 4,
 "nbformat_minor": 5
}
