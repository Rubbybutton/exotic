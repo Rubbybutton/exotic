{
 "cells": [
  {
   "cell_type": "markdown",
   "id": "c887d150",
   "metadata": {},
   "source": [
    "# 3-4-将多个小字符串拼接成一个大字符串"
   ]
  },
  {
   "cell_type": "code",
   "execution_count": 1,
   "id": "96edb595",
   "metadata": {},
   "outputs": [],
   "source": [
    "l = [\"123\",\"456\",\"789\"]"
   ]
  },
  {
   "cell_type": "markdown",
   "id": "f4e575b7",
   "metadata": {},
   "source": [
    "## 方法一（不推荐）相加\n",
    "每次相加浪费"
   ]
  },
  {
   "cell_type": "code",
   "execution_count": 2,
   "id": "9509906c",
   "metadata": {},
   "outputs": [
    {
     "data": {
      "text/plain": [
       "'123456789'"
      ]
     },
     "execution_count": 2,
     "metadata": {},
     "output_type": "execute_result"
    }
   ],
   "source": [
    "from functools import reduce\n",
    "reduce(str.__add__,l)"
   ]
  },
  {
   "cell_type": "markdown",
   "id": "6068758a",
   "metadata": {},
   "source": [
    "## 方法二 \"\".join()"
   ]
  },
  {
   "cell_type": "code",
   "execution_count": 3,
   "id": "740cb16f",
   "metadata": {},
   "outputs": [
    {
     "data": {
      "text/plain": [
       "'123456789'"
      ]
     },
     "execution_count": 3,
     "metadata": {},
     "output_type": "execute_result"
    }
   ],
   "source": [
    "\"\".join(l)"
   ]
  }
 ],
 "metadata": {
  "kernelspec": {
   "display_name": "Python 3 (ipykernel)",
   "language": "python",
   "name": "python3"
  },
  "language_info": {
   "codemirror_mode": {
    "name": "ipython",
    "version": 3
   },
   "file_extension": ".py",
   "mimetype": "text/x-python",
   "name": "python",
   "nbconvert_exporter": "python",
   "pygments_lexer": "ipython3",
   "version": "3.8.10"
  },
  "toc": {
   "base_numbering": 1,
   "nav_menu": {},
   "number_sections": true,
   "sideBar": true,
   "skip_h1_title": false,
   "title_cell": "Table of Contents",
   "title_sidebar": "Contents",
   "toc_cell": false,
   "toc_position": {},
   "toc_section_display": true,
   "toc_window_display": false
  }
 },
 "nbformat": 4,
 "nbformat_minor": 5
}
