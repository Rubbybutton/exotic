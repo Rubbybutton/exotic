{
 "cells": [
  {
   "cell_type": "markdown",
   "id": "870d8838",
   "metadata": {},
   "source": [
    "# 2-4-如何统计序列中元素的频度"
   ]
  },
  {
   "cell_type": "markdown",
   "id": "3681841b",
   "metadata": {},
   "source": [
    "## 将序列转化为字典{元素：频度}，根据字典中的值进行排序"
   ]
  },
  {
   "cell_type": "code",
   "execution_count": 1,
   "id": "67ce11ab",
   "metadata": {},
   "outputs": [],
   "source": [
    "from random import randint"
   ]
  },
  {
   "cell_type": "code",
   "execution_count": 2,
   "id": "bd911aec",
   "metadata": {},
   "outputs": [
    {
     "data": {
      "text/plain": [
       "{1: 0,\n",
       " 3: 0,\n",
       " 6: 0,\n",
       " 9: 0,\n",
       " 20: 0,\n",
       " 8: 0,\n",
       " 18: 0,\n",
       " 5: 0,\n",
       " 7: 0,\n",
       " 17: 0,\n",
       " 13: 0,\n",
       " 4: 0,\n",
       " 14: 0,\n",
       " 12: 0,\n",
       " 19: 0,\n",
       " 10: 0}"
      ]
     },
     "execution_count": 2,
     "metadata": {},
     "output_type": "execute_result"
    }
   ],
   "source": [
    "data = [randint(0,20) for _ in range(30)]\n",
    "d = dict.fromkeys(data, 0) # create dict, remove repetitive items\n",
    "d"
   ]
  },
  {
   "cell_type": "code",
   "execution_count": 3,
   "id": "bf919416",
   "metadata": {},
   "outputs": [],
   "source": [
    "for x in data:\n",
    "    d[x] += 1"
   ]
  },
  {
   "cell_type": "markdown",
   "id": "0ca1b015",
   "metadata": {},
   "source": [
    "### 最后排序"
   ]
  },
  {
   "cell_type": "markdown",
   "id": "d03340fa",
   "metadata": {},
   "source": [
    "#### 使用sorted进行排序"
   ]
  },
  {
   "cell_type": "code",
   "execution_count": 4,
   "id": "32367bbf",
   "metadata": {},
   "outputs": [
    {
     "data": {
      "text/plain": [
       "[(5, 6),\n",
       " (3, 20),\n",
       " (2, 19),\n",
       " (2, 17),\n",
       " (2, 14),\n",
       " (2, 12),\n",
       " (2, 9),\n",
       " (2, 8),\n",
       " (2, 5),\n",
       " (2, 1),\n",
       " (1, 18),\n",
       " (1, 13),\n",
       " (1, 10),\n",
       " (1, 7),\n",
       " (1, 4),\n",
       " (1, 3)]"
      ]
     },
     "execution_count": 4,
     "metadata": {},
     "output_type": "execute_result"
    }
   ],
   "source": [
    "sorted(((v,k) for k,v in d.items()),reverse=True)"
   ]
  },
  {
   "cell_type": "markdown",
   "id": "1024860b",
   "metadata": {},
   "source": [
    "> 然而对于很大的列表并不是很友好,因为sorted把整个列表排序了"
   ]
  },
  {
   "cell_type": "markdown",
   "id": "248d6d89",
   "metadata": {},
   "source": [
    "#### 使用heapq（堆）库"
   ]
  },
  {
   "cell_type": "code",
   "execution_count": 5,
   "id": "41bd3258",
   "metadata": {},
   "outputs": [
    {
     "data": {
      "text/plain": [
       "[(5, 6), (3, 20), (2, 19)]"
      ]
     },
     "execution_count": 5,
     "metadata": {},
     "output_type": "execute_result"
    }
   ],
   "source": [
    "import heapq\n",
    "heapq.nlargest(3,((v,k) for k,v in d.items())) # 其实heapq.nlargest也有key参数，用自定义函数,就是可以直接传字典比较了"
   ]
  },
  {
   "cell_type": "markdown",
   "id": "ab4a3edf",
   "metadata": {},
   "source": [
    "## 使用Collections库中的Counter对象"
   ]
  },
  {
   "cell_type": "code",
   "execution_count": 6,
   "id": "ba0d7241",
   "metadata": {},
   "outputs": [],
   "source": [
    "from collections import Counter"
   ]
  },
  {
   "cell_type": "code",
   "execution_count": 7,
   "id": "9ab0d2a8",
   "metadata": {},
   "outputs": [
    {
     "data": {
      "text/plain": [
       "Counter({1: 2,\n",
       "         3: 1,\n",
       "         6: 5,\n",
       "         9: 2,\n",
       "         20: 3,\n",
       "         8: 2,\n",
       "         18: 1,\n",
       "         5: 2,\n",
       "         7: 1,\n",
       "         17: 2,\n",
       "         13: 1,\n",
       "         4: 1,\n",
       "         14: 2,\n",
       "         12: 2,\n",
       "         19: 2,\n",
       "         10: 1})"
      ]
     },
     "execution_count": 7,
     "metadata": {},
     "output_type": "execute_result"
    }
   ],
   "source": [
    "Counter(data)"
   ]
  },
  {
   "cell_type": "code",
   "execution_count": 8,
   "id": "4be65803",
   "metadata": {},
   "outputs": [
    {
     "data": {
      "text/plain": [
       "[(6, 5), (20, 3), (1, 2)]"
      ]
     },
     "execution_count": 8,
     "metadata": {},
     "output_type": "execute_result"
    }
   ],
   "source": [
    "c = Counter(data)\n",
    "c.most_common(3)"
   ]
  },
  {
   "cell_type": "markdown",
   "id": "33777c4f",
   "metadata": {},
   "source": [
    "## 例子 -- 找出文本中出现次数最多的10个词语"
   ]
  },
  {
   "cell_type": "code",
   "execution_count": 9,
   "id": "663c8dc0",
   "metadata": {},
   "outputs": [],
   "source": [
    "import re"
   ]
  },
  {
   "cell_type": "code",
   "execution_count": 10,
   "id": "c6e06820",
   "metadata": {},
   "outputs": [
    {
     "data": {
      "text/plain": [
       "[('to', 9),\n",
       " ('Markdown', 8),\n",
       " ('text', 7),\n",
       " ('is', 6),\n",
       " ('plain', 5),\n",
       " ('formatting', 5),\n",
       " ('syntax', 5),\n",
       " ('the', 5),\n",
       " ('s', 5),\n",
       " ('a', 4)]"
      ]
     },
     "execution_count": 10,
     "metadata": {},
     "output_type": "execute_result"
    }
   ],
   "source": [
    "with open('2-4-test-file.txt') as f:\n",
    "    word_list = re.split(\"\\W+\",f.read())\n",
    "    c2 = Counter(word_list)\n",
    "    x = c2.most_common(10)\n",
    "x"
   ]
  }
 ],
 "metadata": {
  "kernelspec": {
   "display_name": "Python 3 (ipykernel)",
   "language": "python",
   "name": "python3"
  },
  "language_info": {
   "codemirror_mode": {
    "name": "ipython",
    "version": 3
   },
   "file_extension": ".py",
   "mimetype": "text/x-python",
   "name": "python",
   "nbconvert_exporter": "python",
   "pygments_lexer": "ipython3",
   "version": "3.8.10"
  },
  "toc": {
   "base_numbering": 1,
   "nav_menu": {},
   "number_sections": true,
   "sideBar": true,
   "skip_h1_title": false,
   "title_cell": "Table of Contents",
   "title_sidebar": "Contents",
   "toc_cell": false,
   "toc_position": {},
   "toc_section_display": true,
   "toc_window_display": false
  }
 },
 "nbformat": 4,
 "nbformat_minor": 5
}
