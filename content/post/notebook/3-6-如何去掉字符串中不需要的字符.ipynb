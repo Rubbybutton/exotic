{
 "cells": [
  {
   "cell_type": "markdown",
   "id": "8a068f1c",
   "metadata": {},
   "source": [
    "# 3-6-如何去掉字符串中不需要的字符"
   ]
  },
  {
   "cell_type": "markdown",
   "id": "c6f10908",
   "metadata": {},
   "source": [
    "## 去除两端"
   ]
  },
  {
   "cell_type": "code",
   "execution_count": 21,
   "id": "d22c9ab6",
   "metadata": {},
   "outputs": [
    {
     "name": "stdout",
     "output_type": "stream",
     "text": [
      "|mr.ziqiyang@gmail.com|mr.ziqiyang@gmail.com   |   mr.ziqiyang@gmail.com\n"
     ]
    }
   ],
   "source": [
    "s = \"   mr.ziqiyang@gmail.com   \"\n",
    "print(\"\",s.strip(),s.lstrip(),s.rstrip(),sep =\"|\") # 默认去掉空格和\\t制表符,但没有\\n"
   ]
  },
  {
   "cell_type": "code",
   "execution_count": 2,
   "id": "1b7cfd80",
   "metadata": {},
   "outputs": [
    {
     "name": "stdout",
     "output_type": "stream",
     "text": [
      "|+-=   mr.ziqiyang@gmail.com  =+-|-=   mr.ziqiyang@gmail.com  =+-=|=+-=   mr.ziqiyang@gmail.com|"
     ]
    }
   ],
   "source": [
    "s = \"=+-=   mr.ziqiyang@gmail.com  =+-=\"\n",
    "print(\"\",s.strip(\"=\"),s.lstrip(\"+=\"),s.rstrip(\"+=- \"),sep =\"|\",end=\"|\") # 加参数去掉特定字符，可多个"
   ]
  },
  {
   "cell_type": "markdown",
   "id": "4ea76153",
   "metadata": {},
   "source": [
    "## 切片"
   ]
  },
  {
   "cell_type": "code",
   "execution_count": 5,
   "id": "f9e6044d",
   "metadata": {},
   "outputs": [
    {
     "data": {
      "text/plain": [
       "('abc', '123')"
      ]
     },
     "execution_count": 5,
     "metadata": {},
     "output_type": "execute_result"
    }
   ],
   "source": [
    "s = \"abc:123\"\n",
    "s[:3],s[4:]"
   ]
  },
  {
   "cell_type": "markdown",
   "id": "d7cdcfa5",
   "metadata": {},
   "source": [
    "## 字符串replace()方法或re.sub方法"
   ]
  },
  {
   "cell_type": "markdown",
   "id": "42b8f223",
   "metadata": {},
   "source": [
    "### replace"
   ]
  },
  {
   "cell_type": "code",
   "execution_count": 11,
   "id": "ecafaf6d",
   "metadata": {},
   "outputs": [
    {
     "data": {
      "text/plain": [
       "'abcefghdg'"
      ]
     },
     "execution_count": 11,
     "metadata": {},
     "output_type": "execute_result"
    }
   ],
   "source": [
    "s = \"   abc    efg   hdg\"\n",
    "s.replace(\" \",\"\")"
   ]
  },
  {
   "cell_type": "code",
   "execution_count": 13,
   "id": "ec935b0d",
   "metadata": {},
   "outputs": [
    {
     "data": {
      "text/plain": [
       "'abcefghdg'"
      ]
     },
     "execution_count": 13,
     "metadata": {},
     "output_type": "execute_result"
    }
   ],
   "source": [
    "s = \"   abc  \\t  \\n efg  \\t hdg\"\n",
    "from functools import reduce\n",
    "reduce(lambda a,b: a.replace(b,\"\"), \" \\t\\n\",s)"
   ]
  },
  {
   "cell_type": "markdown",
   "id": "34ca07e5",
   "metadata": {},
   "source": [
    "### re.sub"
   ]
  },
  {
   "cell_type": "code",
   "execution_count": 19,
   "id": "1e921e29",
   "metadata": {},
   "outputs": [
    {
     "data": {
      "text/plain": [
       "('abcefghdg', 'abcefghdg')"
      ]
     },
     "execution_count": 19,
     "metadata": {},
     "output_type": "execute_result"
    }
   ],
   "source": [
    "import re\n",
    "s = \"   abc  \\t  \\n efg  \\t hdg\"\n",
    "re.sub(r\"[ \\t\\n]+\",\"\",s),re.sub(r\"\\s+\",\"\",s) # 两种都可\\s表示空白字符"
   ]
  },
  {
   "cell_type": "markdown",
   "id": "058a41e1",
   "metadata": {},
   "source": [
    "## 字符串的translate方法"
   ]
  },
  {
   "cell_type": "code",
   "execution_count": 35,
   "id": "2a997920",
   "metadata": {},
   "outputs": [
    {
     "data": {
      "text/plain": [
       "'XYc1234xyz'"
      ]
     },
     "execution_count": 35,
     "metadata": {},
     "output_type": "execute_result"
    }
   ],
   "source": [
    "s = \"abc1234xyz\"\n",
    "s.translate({ord(\"a\"):\"X\"}) # 字典中的键必须是unicode编码数字\n",
    "s.translate({ord(\"a\"): None}) # 去除某个字符\n",
    "s.translate({ord(\"a\"):\"X\",ord(\"b\"):ord(\"Y\")})"
   ]
  },
  {
   "cell_type": "code",
   "execution_count": 28,
   "id": "208db965",
   "metadata": {},
   "outputs": [
    {
     "data": {
      "text/plain": [
       "{97: 88, 98: 89, 99: 90}"
      ]
     },
     "execution_count": 28,
     "metadata": {},
     "output_type": "execute_result"
    }
   ],
   "source": [
    "s.maketrans(\"abc\",\"XYZ\") # 专门有个函数制作这种映射表"
   ]
  },
  {
   "cell_type": "code",
   "execution_count": 29,
   "id": "552305ea",
   "metadata": {},
   "outputs": [
    {
     "data": {
      "text/plain": [
       "'XYZ1234xyz'"
      ]
     },
     "execution_count": 29,
     "metadata": {},
     "output_type": "execute_result"
    }
   ],
   "source": [
    "s.translate(s.maketrans(\"abc\",\"XYZ\"))"
   ]
  },
  {
   "cell_type": "markdown",
   "id": "8baaf3d5",
   "metadata": {},
   "source": [
    "### 例:用translate 去除声调"
   ]
  },
  {
   "cell_type": "code",
   "execution_count": 54,
   "id": "d8c27bc7",
   "metadata": {},
   "outputs": [
    {
     "data": {
      "text/plain": [
       "('m', '̥')"
      ]
     },
     "execution_count": 54,
     "metadata": {},
     "output_type": "execute_result"
    }
   ],
   "source": [
    "a = \"m̥\"\n",
    "len(a) # 注意要判断下长度是否大于1(例如 ā 长度为1,就没法分开)\n",
    "a[0],a[1]\n",
    "# len(\"n̪̊ \") == 4"
   ]
  },
  {
   "cell_type": "code",
   "execution_count": 49,
   "id": "caf4f226",
   "metadata": {},
   "outputs": [
    {
     "data": {
      "text/plain": [
       "(0, 220)"
      ]
     },
     "execution_count": 49,
     "metadata": {},
     "output_type": "execute_result"
    }
   ],
   "source": [
    "import unicodedata\n",
    "unicodedata.combining(a[0]),unicodedata.combining(a[1]) # 组合字符如 '̥' 返回非零"
   ]
  },
  {
   "cell_type": "code",
   "execution_count": 56,
   "id": "adce76e8",
   "metadata": {},
   "outputs": [
    {
     "data": {
      "text/plain": [
       "'m n ɱ n'"
      ]
     },
     "execution_count": 56,
     "metadata": {},
     "output_type": "execute_result"
    }
   ],
   "source": [
    "b = \"m̥ n̪̊ ɱ̊ n̪\"\n",
    "c = {ord(c):None for c in b if unicodedata.combining(c)} # {805: None, 810: None, 778: None}\n",
    "b.translate(c)"
   ]
  }
 ],
 "metadata": {
  "kernelspec": {
   "display_name": "Python 3 (ipykernel)",
   "language": "python",
   "name": "python3"
  },
  "language_info": {
   "codemirror_mode": {
    "name": "ipython",
    "version": 3
   },
   "file_extension": ".py",
   "mimetype": "text/x-python",
   "name": "python",
   "nbconvert_exporter": "python",
   "pygments_lexer": "ipython3",
   "version": "3.8.10"
  },
  "toc": {
   "base_numbering": 1,
   "nav_menu": {},
   "number_sections": true,
   "sideBar": true,
   "skip_h1_title": false,
   "title_cell": "Table of Contents",
   "title_sidebar": "Contents",
   "toc_cell": false,
   "toc_position": {},
   "toc_section_display": true,
   "toc_window_display": false
  }
 },
 "nbformat": 4,
 "nbformat_minor": 5
}
