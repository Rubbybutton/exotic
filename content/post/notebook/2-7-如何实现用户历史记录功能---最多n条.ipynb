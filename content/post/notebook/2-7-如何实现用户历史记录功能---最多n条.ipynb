{
 "cells": [
  {
   "cell_type": "markdown",
   "id": "54e0f62b",
   "metadata": {},
   "source": [
    "# 2-7-如何实现用户历史记录功能---最多n条"
   ]
  },
  {
   "cell_type": "markdown",
   "id": "746f9eb0",
   "metadata": {},
   "source": [
    "## collections 的 deque 双端队列"
   ]
  },
  {
   "cell_type": "code",
   "execution_count": 1,
   "id": "3f2962b4",
   "metadata": {},
   "outputs": [],
   "source": [
    "from collections import deque"
   ]
  },
  {
   "cell_type": "code",
   "execution_count": 2,
   "id": "3d8226fd",
   "metadata": {},
   "outputs": [
    {
     "data": {
      "text/plain": [
       "deque([1, 2, 3, 4, 5])"
      ]
     },
     "execution_count": 2,
     "metadata": {},
     "output_type": "execute_result"
    }
   ],
   "source": [
    "q = deque([],5)\n",
    "q.extend([1,2,3,4,5])\n",
    "q"
   ]
  },
  {
   "cell_type": "code",
   "execution_count": 3,
   "id": "749a9ddc",
   "metadata": {},
   "outputs": [
    {
     "data": {
      "text/plain": [
       "deque([2, 3, 4, 5, 6])"
      ]
     },
     "execution_count": 3,
     "metadata": {},
     "output_type": "execute_result"
    }
   ],
   "source": [
    "q.append(6)\n",
    "q"
   ]
  },
  {
   "cell_type": "markdown",
   "id": "322a5936",
   "metadata": {},
   "source": [
    "## 使用pickle模块存储变量到磁盘"
   ]
  },
  {
   "cell_type": "code",
   "execution_count": 4,
   "id": "6c599324",
   "metadata": {},
   "outputs": [],
   "source": [
    "import pickle"
   ]
  },
  {
   "cell_type": "code",
   "execution_count": 10,
   "id": "9182849f",
   "metadata": {},
   "outputs": [],
   "source": [
    "pickle.dump(q,open(\"2-7-test.pkl\",\"wb\"))"
   ]
  },
  {
   "cell_type": "code",
   "execution_count": 11,
   "id": "7e65bce9",
   "metadata": {},
   "outputs": [
    {
     "data": {
      "text/plain": [
       "deque([2, 3, 4, 5, 6])"
      ]
     },
     "execution_count": 11,
     "metadata": {},
     "output_type": "execute_result"
    }
   ],
   "source": [
    "a = pickle.load(open(\"2-7-test.pkl\",\"rb\"))\n",
    "a"
   ]
  }
 ],
 "metadata": {
  "kernelspec": {
   "display_name": "Python 3 (ipykernel)",
   "language": "python",
   "name": "python3"
  },
  "language_info": {
   "codemirror_mode": {
    "name": "ipython",
    "version": 3
   },
   "file_extension": ".py",
   "mimetype": "text/x-python",
   "name": "python",
   "nbconvert_exporter": "python",
   "pygments_lexer": "ipython3",
   "version": "3.8.10"
  }
 },
 "nbformat": 4,
 "nbformat_minor": 5
}
