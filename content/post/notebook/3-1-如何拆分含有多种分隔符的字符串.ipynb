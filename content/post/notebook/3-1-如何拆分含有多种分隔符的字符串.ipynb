{
 "cells": [
  {
   "cell_type": "markdown",
   "id": "ae400d09",
   "metadata": {},
   "source": [
    "# 3-1-如何拆分含有多种分隔符的字符串"
   ]
  },
  {
   "cell_type": "code",
   "execution_count": 1,
   "id": "ecfb5bf2",
   "metadata": {},
   "outputs": [],
   "source": [
    "s = 'ab;cd|efg|hi,jkl|mn\\topq;rst,uvw\\txyz'"
   ]
  },
  {
   "cell_type": "markdown",
   "id": "d675c3d9",
   "metadata": {},
   "source": [
    "## 法一 split函数"
   ]
  },
  {
   "cell_type": "markdown",
   "id": "1688f087",
   "metadata": {},
   "source": [
    "### 引"
   ]
  },
  {
   "cell_type": "markdown",
   "id": "249fabdc",
   "metadata": {},
   "source": [
    "#### 生成嵌套列表"
   ]
  },
  {
   "cell_type": "markdown",
   "id": "4c4afd77",
   "metadata": {},
   "source": [
    "##### 生成器"
   ]
  },
  {
   "cell_type": "code",
   "execution_count": 2,
   "id": "647ca734",
   "metadata": {
    "scrolled": true
   },
   "outputs": [
    {
     "data": {
      "text/plain": [
       "[['ab'], ['cd', 'efg', 'hi,jkl', 'mn\\topq'], ['rst,uvw\\txyz']]"
      ]
     },
     "execution_count": 2,
     "metadata": {},
     "output_type": "execute_result"
    }
   ],
   "source": [
    "[ss.split(\"|\") for ss in s.split(\";\")]"
   ]
  },
  {
   "cell_type": "markdown",
   "id": "028770c8",
   "metadata": {},
   "source": [
    "##### map函数"
   ]
  },
  {
   "cell_type": "code",
   "execution_count": 3,
   "id": "f7b48755",
   "metadata": {},
   "outputs": [
    {
     "data": {
      "text/plain": [
       "[['ab'], ['cd', 'efg', 'hi,jkl', 'mn\\topq'], ['rst,uvw\\txyz']]"
      ]
     },
     "execution_count": 3,
     "metadata": {},
     "output_type": "execute_result"
    }
   ],
   "source": [
    "list(map(lambda x: x.split(\"|\"), s.split(\";\")))"
   ]
  },
  {
   "cell_type": "markdown",
   "id": "9a2751f1",
   "metadata": {},
   "source": [
    "#### 生成单层列表"
   ]
  },
  {
   "cell_type": "markdown",
   "id": "df452076",
   "metadata": {},
   "source": [
    "##### 生成器"
   ]
  },
  {
   "cell_type": "code",
   "execution_count": 4,
   "id": "dbddce28",
   "metadata": {},
   "outputs": [
    {
     "data": {
      "text/plain": [
       "['ab', 'cd', 'efg', 'hi,jkl', 'mn\\topq', 'rst,uvw\\txyz']"
      ]
     },
     "execution_count": 4,
     "metadata": {},
     "output_type": "execute_result"
    }
   ],
   "source": [
    "[sss for ss in s.split(\";\") for sss in ss.split(\"|\")]"
   ]
  },
  {
   "cell_type": "markdown",
   "id": "6f74727a",
   "metadata": {},
   "source": [
    "##### map函数"
   ]
  },
  {
   "cell_type": "code",
   "execution_count": 5,
   "id": "748e3861",
   "metadata": {},
   "outputs": [
    {
     "data": {
      "text/plain": [
       "['ab', 'cd', 'efg', 'hi,jkl', 'mn\\topq', 'rst,uvw\\txyz']"
      ]
     },
     "execution_count": 5,
     "metadata": {},
     "output_type": "execute_result"
    }
   ],
   "source": [
    "t = []\n",
    "list(map(t.extend, [ss.split(\"|\")\n",
    "                    for ss in s.split(\";\")]))  # 加list是为了让map函数操作能执行(map返回生成器)\n",
    "t"
   ]
  },
  {
   "cell_type": "markdown",
   "id": "6c4a29d4",
   "metadata": {},
   "source": [
    "##### sum函数"
   ]
  },
  {
   "cell_type": "code",
   "execution_count": 6,
   "id": "cbf1a9be",
   "metadata": {},
   "outputs": [
    {
     "data": {
      "text/plain": [
       "['ab', 'cd', 'efg', 'hi,jkl', 'mn\\topq', 'rst,uvw\\txyz']"
      ]
     },
     "execution_count": 6,
     "metadata": {},
     "output_type": "execute_result"
    }
   ],
   "source": [
    "sum([ss.split(\"|\") for ss in s.split(\";\")],\n",
    "    [])  # sum 函数第二个参数start默认为0,此处改为start=[]"
   ]
  },
  {
   "cell_type": "markdown",
   "id": "fe5b33a1",
   "metadata": {},
   "source": [
    "##### itertools 中的 chain 函数 (见4-5)"
   ]
  },
  {
   "cell_type": "code",
   "execution_count": 16,
   "id": "d37ce6f3",
   "metadata": {},
   "outputs": [
    {
     "data": {
      "text/plain": [
       "['ab', 'cd', 'efg', 'hi,jkl', 'mn\\topq', 'rst,uvw\\txyz']"
      ]
     },
     "execution_count": 16,
     "metadata": {},
     "output_type": "execute_result"
    }
   ],
   "source": [
    "from itertools import chain\n",
    "list(chain(*[ss.split(\"|\") for ss in s.split(\";\")])) # 注意*号"
   ]
  },
  {
   "cell_type": "markdown",
   "id": "d7a2e82a",
   "metadata": {},
   "source": [
    "### Show me the code"
   ]
  },
  {
   "cell_type": "markdown",
   "id": "874b9516",
   "metadata": {},
   "source": [
    "#### 自定义函数"
   ]
  },
  {
   "cell_type": "code",
   "execution_count": 8,
   "id": "65a323d6",
   "metadata": {},
   "outputs": [
    {
     "data": {
      "text/plain": [
       "['ab', 'cd', 'efg', 'hi', 'jkl', 'mn', 'opq', 'rst', 'uvw', 'xyz']"
      ]
     },
     "execution_count": 8,
     "metadata": {},
     "output_type": "execute_result"
    }
   ],
   "source": [
    "def my_split(s, seps):\n",
    "    res = [s]\n",
    "    for sep in seps:\n",
    "        t = []\n",
    "        list(map(lambda x: t.extend(x.split(sep)), res))\n",
    "        res = t\n",
    "    return res\n",
    "\n",
    "\n",
    "my_split(s, \";|,\\t\")"
   ]
  },
  {
   "cell_type": "markdown",
   "id": "7daf0f4b",
   "metadata": {},
   "source": [
    "#### reduce函数"
   ]
  },
  {
   "cell_type": "code",
   "execution_count": 9,
   "id": "c5f50963",
   "metadata": {},
   "outputs": [],
   "source": [
    "from functools import reduce"
   ]
  },
  {
   "cell_type": "code",
   "execution_count": 10,
   "id": "b3f018a8",
   "metadata": {},
   "outputs": [
    {
     "data": {
      "text/plain": [
       "['ab', 'cd', 'efg', 'hi', 'jkl', 'mn', 'opq', 'rst', 'uvw', 'xyz']"
      ]
     },
     "execution_count": 10,
     "metadata": {},
     "output_type": "execute_result"
    }
   ],
   "source": [
    "# 使用sum 和 生成器\n",
    "reduce(lambda x, sep: sum([a.split(sep) for a in x], []), \";|,\\t\",\n",
    "       [s])  # 使第三个参数initializer=s,即s作为初始"
   ]
  },
  {
   "cell_type": "code",
   "execution_count": 11,
   "id": "014cb7fc",
   "metadata": {},
   "outputs": [
    {
     "data": {
      "text/plain": [
       "['ab', 'cd', 'efg', 'hi', 'jkl', 'mn', 'opq', 'rst', 'uvw', 'xyz']"
      ]
     },
     "execution_count": 11,
     "metadata": {},
     "output_type": "execute_result"
    }
   ],
   "source": [
    "# 当然也可以: (使用sum 和 map)\n",
    "my_split2 = lambda s, seps: reduce(\n",
    "    lambda l, sep: sum(map(lambda ss: ss.split(sep), l), []), seps, [s])\n",
    "my_split2(s, \";|,\\t\")"
   ]
  },
  {
   "cell_type": "markdown",
   "id": "1e95208b",
   "metadata": {},
   "source": [
    "## 法二 正则表达式"
   ]
  },
  {
   "cell_type": "code",
   "execution_count": 12,
   "id": "11238073",
   "metadata": {},
   "outputs": [],
   "source": [
    "import re"
   ]
  },
  {
   "cell_type": "code",
   "execution_count": 13,
   "id": "bfab720f",
   "metadata": {},
   "outputs": [
    {
     "data": {
      "text/plain": [
       "['ab', 'cd', 'efg', 'hi', 'jkl', 'mn', 'opq', 'rst', 'uvw', 'xyz']"
      ]
     },
     "execution_count": 13,
     "metadata": {},
     "output_type": "execute_result"
    }
   ],
   "source": [
    "re.split(\"[;|,\\t]\", s)"
   ]
  }
 ],
 "metadata": {
  "kernelspec": {
   "display_name": "Python 3 (ipykernel)",
   "language": "python",
   "name": "python3"
  },
  "language_info": {
   "codemirror_mode": {
    "name": "ipython",
    "version": 3
   },
   "file_extension": ".py",
   "mimetype": "text/x-python",
   "name": "python",
   "nbconvert_exporter": "python",
   "pygments_lexer": "ipython3",
   "version": "3.8.10"
  },
  "toc": {
   "base_numbering": 1,
   "nav_menu": {
    "height": "224px",
    "width": "416px"
   },
   "number_sections": true,
   "sideBar": true,
   "skip_h1_title": false,
   "title_cell": "Table of Contents",
   "title_sidebar": "Contents",
   "toc_cell": false,
   "toc_position": {},
   "toc_section_display": true,
   "toc_window_display": false
  }
 },
 "nbformat": 4,
 "nbformat_minor": 5
}
