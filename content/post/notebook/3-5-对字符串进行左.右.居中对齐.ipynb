{
 "cells": [
  {
   "cell_type": "markdown",
   "id": "2a273aa3",
   "metadata": {},
   "source": [
    "# 3-5-对字符串进行左.右.居中对齐"
   ]
  },
  {
   "cell_type": "markdown",
   "id": "81448703",
   "metadata": {},
   "source": [
    "## 法一 str.ljust(),str.rjust(),str.center()方法"
   ]
  },
  {
   "cell_type": "code",
   "execution_count": 1,
   "id": "3252c7b5",
   "metadata": {},
   "outputs": [
    {
     "data": {
      "text/plain": [
       "('abc       ', '^^^^^^^abc', '###abc####')"
      ]
     },
     "execution_count": 1,
     "metadata": {},
     "output_type": "execute_result"
    }
   ],
   "source": [
    "s = \"abc\"\n",
    "s.ljust(10),s.rjust(10,\"^\"),s.center(10,\"#\") # 第二个参数只可以含有一个字符"
   ]
  },
  {
   "cell_type": "markdown",
   "id": "963ade88",
   "metadata": {},
   "source": [
    "## format() 方法,传递类似 \"<20\",\">20\",\"^20\"等参数"
   ]
  },
  {
   "cell_type": "code",
   "execution_count": 2,
   "id": "ce2b17bf",
   "metadata": {},
   "outputs": [
    {
     "name": "stdout",
     "output_type": "stream",
     "text": [
      "abc       \n",
      "#######abc\n",
      "***abc****\n",
      "\n",
      "xxxx5xxxxx\n",
      "xxxx5xxxxx\n",
      "\n",
      "-123\n",
      "+123\n",
      "      -123\n",
      "-      123\n",
      "-xxxxxx123\n",
      "+xxxxxx123\n"
     ]
    }
   ],
   "source": [
    "a = lambda a, b: print(format(a, b))\n",
    "s = \"abc\"\n",
    "a(s, \"<10\")\n",
    "a(s, \"#>10\")\n",
    "a(s, \"*^10\")\n",
    "\n",
    "print()\n",
    "\n",
    "a(5, \"x^10\")\n",
    "n = 5\n",
    "print(n.__format__(\"x^10\"))  # 只要对象有__format__方法即可使用format函数\n",
    "\n",
    "print()\n",
    "\n",
    "a(-123, \"+\")  # +号表示显示符号\n",
    "a(123, \"+\")\n",
    "a(-123, \">+10\")\n",
    "a(-123, \"=+10\")\n",
    "a(-123, \"x=+10\")\n",
    "a(123, \"x=+10\")"
   ]
  },
  {
   "cell_type": "markdown",
   "id": "6cbe66c1",
   "metadata": {},
   "source": [
    "## 实例"
   ]
  },
  {
   "cell_type": "code",
   "execution_count": 4,
   "id": "1de0c0d0",
   "metadata": {},
   "outputs": [
    {
     "data": {
      "text/plain": [
       "{'IodDist': 100.0,\n",
       " 'SmallCull': 0.04,\n",
       " 'DistCull': 500.0,\n",
       " 'trilinear': 40,\n",
       " 'farclip': 477}"
      ]
     },
     "execution_count": 4,
     "metadata": {},
     "output_type": "execute_result"
    }
   ],
   "source": [
    "d = {\n",
    "    \"IodDist\": 100.0,\n",
    "    \"SmallCull\": 0.04,\n",
    "    \"DistCull\": 500.0,\n",
    "    \"trilinear\": 40,\n",
    "    \"farclip\": 477,\n",
    "}\n",
    "d"
   ]
  },
  {
   "cell_type": "code",
   "execution_count": 7,
   "id": "7dc65441",
   "metadata": {},
   "outputs": [
    {
     "name": "stdout",
     "output_type": "stream",
     "text": [
      "IodDist  : 100.0\n",
      "SmallCull: 0.04\n",
      "DistCull : 500.0\n",
      "trilinear: 40\n",
      "farclip  : 477\n"
     ]
    }
   ],
   "source": [
    "maxLen = max(map(len,d.keys()))\n",
    "for k,v in d.items():\n",
    "    print(k.ljust(maxLen),\": \",v,sep=\"\")"
   ]
  }
 ],
 "metadata": {
  "kernelspec": {
   "display_name": "Python 3 (ipykernel)",
   "language": "python",
   "name": "python3"
  },
  "language_info": {
   "codemirror_mode": {
    "name": "ipython",
    "version": 3
   },
   "file_extension": ".py",
   "mimetype": "text/x-python",
   "name": "python",
   "nbconvert_exporter": "python",
   "pygments_lexer": "ipython3",
   "version": "3.8.10"
  },
  "toc": {
   "base_numbering": 1,
   "nav_menu": {},
   "number_sections": true,
   "sideBar": true,
   "skip_h1_title": false,
   "title_cell": "Table of Contents",
   "title_sidebar": "Contents",
   "toc_cell": false,
   "toc_position": {},
   "toc_section_display": true,
   "toc_window_display": false
  }
 },
 "nbformat": 4,
 "nbformat_minor": 5
}
