{
 "cells": [
  {
   "cell_type": "markdown",
   "id": "57306e1f",
   "metadata": {},
   "source": [
    "# 4-1-如何实现迭代器对象和可迭代对象-1"
   ]
  },
  {
   "cell_type": "code",
   "execution_count": 1,
   "id": "e775b398",
   "metadata": {},
   "outputs": [],
   "source": [
    "from collections.abc import Iterable,Iterator"
   ]
  },
  {
   "cell_type": "code",
   "execution_count": 2,
   "id": "bd8f35b2",
   "metadata": {},
   "outputs": [],
   "source": [
    "l = [1,2,3,4,5]"
   ]
  },
  {
   "cell_type": "code",
   "execution_count": 3,
   "id": "363b05ea",
   "metadata": {
    "scrolled": true
   },
   "outputs": [
    {
     "name": "stdout",
     "output_type": "stream",
     "text": [
      "True\n",
      "True\n",
      "True\n",
      "True\n",
      "False\n"
     ]
    }
   ],
   "source": [
    "print(isinstance(l, Iterable))\n",
    "\n",
    "print(issubclass(list, Iterable))\n",
    "print(issubclass(dict, Iterable))\n",
    "print(issubclass(str, Iterable))\n",
    "print(issubclass(int, Iterable))"
   ]
  },
  {
   "cell_type": "code",
   "execution_count": 4,
   "id": "3020a24a",
   "metadata": {},
   "outputs": [
    {
     "name": "stdout",
     "output_type": "stream",
     "text": [
      "1\n",
      "2\n",
      "3\n",
      "4\n",
      "5\n"
     ]
    }
   ],
   "source": [
    "for x in l: # 这句话其实是调用了 l.__iter__()方法\n",
    "    print(x)"
   ]
  },
  {
   "cell_type": "code",
   "execution_count": 5,
   "id": "b9ff0edb",
   "metadata": {},
   "outputs": [
    {
     "data": {
      "text/plain": [
       "frozenset({'__iter__'})"
      ]
     },
     "execution_count": 5,
     "metadata": {},
     "output_type": "execute_result"
    }
   ],
   "source": [
    "it = iter(l) # <list_iterator at 0x7febe77de610>\n",
    "it2 = iter(l)\n",
    "# iter(l) <==> l.__iter__() , 并且每次生成不一样(地址)\n",
    "Iterable.__abstractmethods__"
   ]
  },
  {
   "cell_type": "code",
   "execution_count": 6,
   "id": "73af5e7b",
   "metadata": {},
   "outputs": [
    {
     "data": {
      "text/plain": [
       "(1, 2, [3, 4, 5], 1)"
      ]
     },
     "execution_count": 6,
     "metadata": {},
     "output_type": "execute_result"
    }
   ],
   "source": [
    "next(it),it.__next__(),list(it),next(it2) # 不同迭代器之间互不干扰"
   ]
  },
  {
   "cell_type": "code",
   "execution_count": 7,
   "id": "2c924bd1",
   "metadata": {},
   "outputs": [
    {
     "name": "stdout",
     "output_type": "stream",
     "text": [
      "1\n",
      "2\n",
      "3\n",
      "4\n",
      "5\n"
     ]
    }
   ],
   "source": [
    "it = iter(l)\n",
    "for x in it: # 迭代器也有__iter__()方法，不过返回的是本身\n",
    "    print(x)"
   ]
  },
  {
   "cell_type": "code",
   "execution_count": 8,
   "id": "2941ad85",
   "metadata": {},
   "outputs": [
    {
     "name": "stdout",
     "output_type": "stream",
     "text": [
      "True True\n",
      "True\n"
     ]
    }
   ],
   "source": [
    "it = iter(l)\n",
    "print(isinstance(it,Iterable),isinstance(it,Iterator))\n",
    "print(it.__iter__() == it)"
   ]
  }
 ],
 "metadata": {
  "kernelspec": {
   "display_name": "Python 3 (ipykernel)",
   "language": "python",
   "name": "python3"
  },
  "language_info": {
   "codemirror_mode": {
    "name": "ipython",
    "version": 3
   },
   "file_extension": ".py",
   "mimetype": "text/x-python",
   "name": "python",
   "nbconvert_exporter": "python",
   "pygments_lexer": "ipython3",
   "version": "3.8.10"
  },
  "toc": {
   "base_numbering": 1,
   "nav_menu": {},
   "number_sections": true,
   "sideBar": true,
   "skip_h1_title": false,
   "title_cell": "Table of Contents",
   "title_sidebar": "Contents",
   "toc_cell": false,
   "toc_position": {},
   "toc_section_display": true,
   "toc_window_display": false
  }
 },
 "nbformat": 4,
 "nbformat_minor": 5
}
