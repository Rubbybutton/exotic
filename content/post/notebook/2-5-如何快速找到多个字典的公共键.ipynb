{
 "cells": [
  {
   "cell_type": "markdown",
   "id": "679dab0d",
   "metadata": {},
   "source": [
    "# 2-5-如何快速找到多个字典的公共键"
   ]
  },
  {
   "cell_type": "markdown",
   "id": "0caa6ca3",
   "metadata": {},
   "source": [
    "## 容易想到的方法"
   ]
  },
  {
   "cell_type": "code",
   "execution_count": 1,
   "id": "288292bd",
   "metadata": {},
   "outputs": [],
   "source": [
    "from random import randint,sample"
   ]
  },
  {
   "cell_type": "markdown",
   "id": "9d953f2d",
   "metadata": {},
   "source": [
    "### 假设三轮的情况下"
   ]
  },
  {
   "cell_type": "code",
   "execution_count": 2,
   "id": "20939232",
   "metadata": {},
   "outputs": [],
   "source": [
    "d1 = {k: randint(1,4) for k in sample(\"abcdefgh\",randint(3,6))}\n",
    "d2 = {k: randint(1,4) for k in sample(\"abcdefgh\",randint(3,6))}\n",
    "d3 = {k: randint(1,4) for k in sample(\"abcdefgh\",randint(3,6))}"
   ]
  },
  {
   "cell_type": "code",
   "execution_count": 3,
   "id": "e696830c",
   "metadata": {},
   "outputs": [
    {
     "data": {
      "text/plain": [
       "({'b': 4, 'e': 2, 'g': 4, 'c': 3, 'd': 3},\n",
       " {'f': 1, 'a': 3, 'b': 4, 'd': 1, 'g': 4, 'c': 3},\n",
       " {'d': 2, 'g': 3, 'b': 4, 'e': 1, 'f': 2, 'c': 3})"
      ]
     },
     "execution_count": 3,
     "metadata": {},
     "output_type": "execute_result"
    }
   ],
   "source": [
    "d1,d2,d3"
   ]
  },
  {
   "cell_type": "code",
   "execution_count": 5,
   "id": "6401299b",
   "metadata": {
    "code_folding": []
   },
   "outputs": [
    {
     "data": {
      "text/plain": [
       "['b', 'g', 'c', 'd']"
      ]
     },
     "execution_count": 5,
     "metadata": {},
     "output_type": "execute_result"
    }
   ],
   "source": [
    "[k for k in d1 if k in d2 and k in d3]"
   ]
  },
  {
   "cell_type": "markdown",
   "id": "bb6a5a8c",
   "metadata": {},
   "source": [
    "### 对于未知轮数"
   ]
  },
  {
   "cell_type": "code",
   "execution_count": 13,
   "id": "314ac682",
   "metadata": {},
   "outputs": [],
   "source": [
    "dl = [d1,d2,d3]"
   ]
  },
  {
   "cell_type": "code",
   "execution_count": 14,
   "id": "45c48191",
   "metadata": {},
   "outputs": [
    {
     "data": {
      "text/plain": [
       "['b', 'g', 'c', 'd']"
      ]
     },
     "execution_count": 14,
     "metadata": {},
     "output_type": "execute_result"
    }
   ],
   "source": [
    "[k for k in dl[0] if all(map(lambda x: k in x, dl[1:]))]"
   ]
  },
  {
   "cell_type": "markdown",
   "id": "340aa944",
   "metadata": {},
   "source": [
    "## 使用字典交集 + reduce 函数"
   ]
  },
  {
   "cell_type": "code",
   "execution_count": 15,
   "id": "cf3d386d",
   "metadata": {},
   "outputs": [],
   "source": [
    "from functools import reduce"
   ]
  },
  {
   "cell_type": "code",
   "execution_count": 17,
   "id": "763a17d2",
   "metadata": {},
   "outputs": [
    {
     "data": {
      "text/plain": [
       "{'b', 'c', 'd', 'g'}"
      ]
     },
     "execution_count": 17,
     "metadata": {},
     "output_type": "execute_result"
    }
   ],
   "source": [
    "reduce(lambda a,b: a & b,map(dict.keys,dl))"
   ]
  }
 ],
 "metadata": {
  "kernelspec": {
   "display_name": "Python 3 (ipykernel)",
   "language": "python",
   "name": "python3"
  },
  "language_info": {
   "codemirror_mode": {
    "name": "ipython",
    "version": 3
   },
   "file_extension": ".py",
   "mimetype": "text/x-python",
   "name": "python",
   "nbconvert_exporter": "python",
   "pygments_lexer": "ipython3",
   "version": "3.8.10"
  }
 },
 "nbformat": 4,
 "nbformat_minor": 5
}
