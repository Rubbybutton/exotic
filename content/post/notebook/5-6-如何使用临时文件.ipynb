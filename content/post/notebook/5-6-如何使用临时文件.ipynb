{
 "cells": [
  {
   "cell_type": "markdown",
   "id": "963127c2",
   "metadata": {},
   "source": [
    "# 5-6-如何使用临时文件"
   ]
  },
  {
   "cell_type": "markdown",
   "id": "1e97a012",
   "metadata": {},
   "source": [
    "## 实际案例\n",
    "在某项目中，我们从传感器采集数据，每收集到1G数据后，做数据分析，最终只保存分析结果。这样很大的历史数据如果常驻内存，将消耗大量内存资源，我们可以使用临时文件存储这些临时数据（外部存储）。  \n",
    "临时文件可以不用命名，并且关闭后会自动删除。"
   ]
  },
  {
   "cell_type": "markdown",
   "id": "62584bf8",
   "metadata": {},
   "source": [
    "## TemporaryFile"
   ]
  },
  {
   "cell_type": "code",
   "execution_count": 1,
   "id": "54787991",
   "metadata": {},
   "outputs": [],
   "source": [
    "from tempfile import TemporaryFile"
   ]
  },
  {
   "cell_type": "code",
   "execution_count": 2,
   "id": "26012112",
   "metadata": {},
   "outputs": [
    {
     "data": {
      "text/plain": [
       "b'********************************************************************************************************************************************************************************************************************************************************************************************************************************************************************************************************************************************************************************************************************************'"
      ]
     },
     "execution_count": 2,
     "metadata": {},
     "output_type": "execute_result"
    }
   ],
   "source": [
    "tf = TemporaryFile()\n",
    "tf.write(b\"*\" * 1024 * 1024)\n",
    "tf.write(b\"*\" * 1024 * 1024)\n",
    "tf.write(b\"*\" * 1024 * 1024)\n",
    "tf.write(b\"*\" * 1024 * 1024)\n",
    "tf.seek(0)\n",
    "tf.read(512)"
   ]
  },
  {
   "cell_type": "markdown",
   "id": "c6ea828d",
   "metadata": {},
   "source": [
    "`特殊点`:\n",
    "1. 在文件系统中是找不到的\n",
    "2. `tf.close()`临时文件就会自动地被删除掉"
   ]
  },
  {
   "cell_type": "markdown",
   "id": "861591ea",
   "metadata": {},
   "source": [
    "### 验证tf.close()"
   ]
  },
  {
   "cell_type": "code",
   "execution_count": 3,
   "id": "4ff5ee92",
   "metadata": {},
   "outputs": [
    {
     "name": "stdout",
     "output_type": "stream",
     "text": [
      "Filesystem      Size  Used Avail Use% Mounted on\r\n",
      "udev            1.9G     0  1.9G   0% /dev\r\n",
      "tmpfs           394M  716K  393M   1% /run\r\n",
      "/dev/vda2        79G  9.0G   67G  12% /\r\n",
      "tmpfs           2.0G   24K  2.0G   1% /dev/shm\r\n",
      "tmpfs           5.0M     0  5.0M   0% /run/lock\r\n",
      "tmpfs           2.0G     0  2.0G   0% /sys/fs/cgroup\r\n",
      "tmpfs           394M     0  394M   0% /run/user/1000\r\n"
     ]
    }
   ],
   "source": [
    "!df -h # 查看磁盘使用量"
   ]
  },
  {
   "cell_type": "code",
   "execution_count": 4,
   "id": "21b1d0c0",
   "metadata": {},
   "outputs": [
    {
     "data": {
      "text/plain": [
       "1073741824"
      ]
     },
     "execution_count": 4,
     "metadata": {},
     "output_type": "execute_result"
    }
   ],
   "source": [
    "tf = TemporaryFile()\n",
    "tf.write(b\"*\" * 1024 * 1024 * 1024) "
   ]
  },
  {
   "cell_type": "code",
   "execution_count": 5,
   "id": "c8aa7be2",
   "metadata": {},
   "outputs": [
    {
     "name": "stdout",
     "output_type": "stream",
     "text": [
      "Filesystem      Size  Used Avail Use% Mounted on\r\n",
      "udev            1.9G     0  1.9G   0% /dev\r\n",
      "tmpfs           394M  716K  393M   1% /run\r\n",
      "/dev/vda2        79G   10G   66G  14% /\r\n",
      "tmpfs           2.0G   24K  2.0G   1% /dev/shm\r\n",
      "tmpfs           5.0M     0  5.0M   0% /run/lock\r\n",
      "tmpfs           2.0G     0  2.0G   0% /sys/fs/cgroup\r\n",
      "tmpfs           394M     0  394M   0% /run/user/1000\r\n"
     ]
    }
   ],
   "source": [
    "!df -h"
   ]
  },
  {
   "cell_type": "code",
   "execution_count": 6,
   "id": "c563e740",
   "metadata": {},
   "outputs": [
    {
     "name": "stdout",
     "output_type": "stream",
     "text": [
      "Filesystem      Size  Used Avail Use% Mounted on\r\n",
      "udev            1.9G     0  1.9G   0% /dev\r\n",
      "tmpfs           394M  716K  393M   1% /run\r\n",
      "/dev/vda2        79G  9.0G   67G  12% /\r\n",
      "tmpfs           2.0G   24K  2.0G   1% /dev/shm\r\n",
      "tmpfs           5.0M     0  5.0M   0% /run/lock\r\n",
      "tmpfs           2.0G     0  2.0G   0% /sys/fs/cgroup\r\n",
      "tmpfs           394M     0  394M   0% /run/user/1000\r\n"
     ]
    }
   ],
   "source": [
    "tf.close()\n",
    "!df -h"
   ]
  },
  {
   "cell_type": "markdown",
   "id": "5c51bccf",
   "metadata": {},
   "source": [
    "### 此外\n",
    "1. `Temporaryfile`创建的是一个操作系统级别的临时文件  \n",
    "    系统级别的open,就是`os.open`  \n",
    "    在`ubuntu`里，可以使用`man 2 open`查看linux命令open的c语言帮助，里面open函数可以接受参数`O_TMPFILE`参数，加上这个参数就可以创建系统级别的临时文件。  \n",
    "2. `Tempporary`可以接受`dir`参数，指定位置(虽然看不到这个文件)\n",
    "    用处，比如电脑磁盘有两个分区:  \n",
    "    sda1 -> /\n",
    "    sda2 -> /opt\n",
    "    此时指定`/opt`作为`dir`参数的值就可以在sda2下写临时文件"
   ]
  },
  {
   "cell_type": "markdown",
   "id": "26f2db9b",
   "metadata": {},
   "source": [
    "## NamedTemporaryFile\n",
    "1. 可以命名，可以在磁盘中找到这个文件。\n",
    "2. 不是操作系统级别的，即临时文件是python库做的，而不是操作系统做的"
   ]
  },
  {
   "cell_type": "code",
   "execution_count": 7,
   "id": "55657285",
   "metadata": {},
   "outputs": [],
   "source": [
    "from tempfile import NamedTemporaryFile"
   ]
  },
  {
   "cell_type": "code",
   "execution_count": 8,
   "id": "62174842",
   "metadata": {},
   "outputs": [],
   "source": [
    "ntf = NamedTemporaryFile()"
   ]
  },
  {
   "cell_type": "code",
   "execution_count": 9,
   "id": "7b26059e",
   "metadata": {},
   "outputs": [
    {
     "data": {
      "text/plain": [
       "'/tmp/tmpgc6vf27a'"
      ]
     },
     "execution_count": 9,
     "metadata": {},
     "output_type": "execute_result"
    }
   ],
   "source": [
    "ntf.name"
   ]
  },
  {
   "cell_type": "markdown",
   "id": "0deb8c2d",
   "metadata": {},
   "source": [
    "### 获取默认值"
   ]
  },
  {
   "cell_type": "code",
   "execution_count": 10,
   "id": "d1da3c95",
   "metadata": {},
   "outputs": [],
   "source": [
    "import tempfile"
   ]
  },
  {
   "cell_type": "code",
   "execution_count": 11,
   "id": "c14872b0",
   "metadata": {},
   "outputs": [
    {
     "data": {
      "text/plain": [
       "'/tmp'"
      ]
     },
     "execution_count": 11,
     "metadata": {},
     "output_type": "execute_result"
    }
   ],
   "source": [
    "tempfile.gettempdir()"
   ]
  },
  {
   "cell_type": "code",
   "execution_count": 12,
   "id": "7d97d019",
   "metadata": {},
   "outputs": [
    {
     "data": {
      "text/plain": [
       "'tmp'"
      ]
     },
     "execution_count": 12,
     "metadata": {},
     "output_type": "execute_result"
    }
   ],
   "source": [
    "tempfile.gettempprefix()"
   ]
  },
  {
   "cell_type": "markdown",
   "id": "607d88f2",
   "metadata": {},
   "source": [
    "### other"
   ]
  },
  {
   "cell_type": "code",
   "execution_count": 13,
   "id": "05ee7c79",
   "metadata": {},
   "outputs": [],
   "source": [
    "ntf.close() # 关闭时自动删除\n",
    "# 然而可以 ntf = NamedTemporaryFile(datele=False)来取消自动删除"
   ]
  }
 ],
 "metadata": {
  "kernelspec": {
   "display_name": "Python 3 (ipykernel)",
   "language": "python",
   "name": "python3"
  },
  "language_info": {
   "codemirror_mode": {
    "name": "ipython",
    "version": 3
   },
   "file_extension": ".py",
   "mimetype": "text/x-python",
   "name": "python",
   "nbconvert_exporter": "python",
   "pygments_lexer": "ipython3",
   "version": "3.8.10"
  },
  "toc": {
   "base_numbering": 1,
   "nav_menu": {},
   "number_sections": true,
   "sideBar": true,
   "skip_h1_title": false,
   "title_cell": "Table of Contents",
   "title_sidebar": "Contents",
   "toc_cell": false,
   "toc_position": {},
   "toc_section_display": true,
   "toc_window_display": false
  }
 },
 "nbformat": 4,
 "nbformat_minor": 5
}
